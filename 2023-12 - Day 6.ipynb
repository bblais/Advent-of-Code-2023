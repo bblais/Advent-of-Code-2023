{
 "cells": [
  {
   "cell_type": "markdown",
   "id": "f7ae496a-49db-4098-a335-a5fbe85be968",
   "metadata": {},
   "source": [
    "https://adventofcode.com/2023/day/6"
   ]
  },
  {
   "cell_type": "code",
   "execution_count": 1,
   "id": "0b154694-0614-4ba9-b421-66a54b82fb4e",
   "metadata": {},
   "outputs": [],
   "source": [
    "S=\"\"\"\n",
    "Time:      7  15   30\n",
    "Distance:  9  40  200\n",
    "\"\"\".strip()\n",
    "lines=S.split('\\n')"
   ]
  },
  {
   "cell_type": "code",
   "execution_count": 2,
   "id": "de3c6255-b924-460d-ab9f-e5c0d2129dc6",
   "metadata": {},
   "outputs": [],
   "source": [
    "time=[int(_) for _ in lines[0].split()[1:]]\n",
    "distance=[int(_) for _ in lines[1].split()[1:]]"
   ]
  },
  {
   "cell_type": "code",
   "execution_count": 3,
   "id": "44be313e-85e3-41d4-9228-cb8dfc7f4d10",
   "metadata": {},
   "outputs": [
    {
     "data": {
      "text/plain": [
       "([7, 15, 30], [9, 40, 200])"
      ]
     },
     "execution_count": 3,
     "metadata": {},
     "output_type": "execute_result"
    }
   ],
   "source": [
    "time,distance"
   ]
  },
  {
   "cell_type": "code",
   "execution_count": 4,
   "id": "74e1efac-c76b-404a-b5d6-265077f2f200",
   "metadata": {},
   "outputs": [],
   "source": [
    "t=7\n",
    "d=9"
   ]
  },
  {
   "cell_type": "code",
   "execution_count": 5,
   "id": "84cf605d-d831-478c-8250-83fc0eaa29d7",
   "metadata": {},
   "outputs": [],
   "source": [
    "def D(hold,t=7):\n",
    "    v=hold\n",
    "    to=hold\n",
    "    return (t-to)*v"
   ]
  },
  {
   "cell_type": "code",
   "execution_count": 8,
   "id": "ed6350de-bdd8-41b2-8574-76ec378d2029",
   "metadata": {},
   "outputs": [],
   "source": [
    "from numpy import arange"
   ]
  },
  {
   "cell_type": "code",
   "execution_count": 7,
   "id": "042af5f7-15f1-48a1-bee9-de383099bb34",
   "metadata": {},
   "outputs": [
    {
     "data": {
      "text/plain": [
       "10"
      ]
     },
     "execution_count": 7,
     "metadata": {},
     "output_type": "execute_result"
    }
   ],
   "source": [
    "D(2,t=7)"
   ]
  },
  {
   "cell_type": "code",
   "execution_count": 16,
   "id": "4b6cdfb1-2332-4bd8-a0db-5a4e5c75d2cf",
   "metadata": {},
   "outputs": [
    {
     "data": {
      "text/plain": [
       "288"
      ]
     },
     "execution_count": 16,
     "metadata": {},
     "output_type": "execute_result"
    }
   ],
   "source": [
    "total=1\n",
    "for t,d in zip(time,distance):\n",
    "    total*=(D(arange(t+1),t=t)>d).sum()\n",
    "total"
   ]
  },
  {
   "cell_type": "code",
   "execution_count": 17,
   "id": "ef950dad-ee1e-43d1-bd06-8b4ee48e69f9",
   "metadata": {},
   "outputs": [
    {
     "data": {
      "text/plain": [
       "2"
      ]
     },
     "execution_count": 17,
     "metadata": {},
     "output_type": "execute_result"
    }
   ],
   "source": [
    "S=open('data/day6.txt').read().strip()\n",
    "lines=S.split('\\n')\n",
    "len(lines)"
   ]
  },
  {
   "cell_type": "code",
   "execution_count": 18,
   "id": "d1f6d58c-7f4b-4d83-88cb-47c0875a2b71",
   "metadata": {},
   "outputs": [],
   "source": [
    "time=[int(_) for _ in lines[0].split()[1:]]\n",
    "distance=[int(_) for _ in lines[1].split()[1:]]"
   ]
  },
  {
   "cell_type": "code",
   "execution_count": 19,
   "id": "d74ca882-03f2-4030-b822-ac53d397eca7",
   "metadata": {},
   "outputs": [
    {
     "data": {
      "text/plain": [
       "625968"
      ]
     },
     "execution_count": 19,
     "metadata": {},
     "output_type": "execute_result"
    }
   ],
   "source": [
    "total=1\n",
    "for t,d in zip(time,distance):\n",
    "    total*=(D(arange(t+1),t=t)>d).sum()\n",
    "total"
   ]
  },
  {
   "cell_type": "markdown",
   "id": "a9b4159d-503b-4aa3-a496-1201162e7cf4",
   "metadata": {},
   "source": [
    "## Part 2"
   ]
  },
  {
   "cell_type": "code",
   "execution_count": 20,
   "id": "b8af824a-f409-467e-8525-750bff6b60e2",
   "metadata": {},
   "outputs": [],
   "source": [
    "S=\"\"\"\n",
    "Time:      7  15   30\n",
    "Distance:  9  40  200\n",
    "\"\"\".strip()\n",
    "lines=S.split('\\n')"
   ]
  },
  {
   "cell_type": "code",
   "execution_count": 21,
   "id": "81aa3490-b414-410d-8d7b-e966e0475b87",
   "metadata": {},
   "outputs": [
    {
     "data": {
      "text/plain": [
       "(71530, 940200)"
      ]
     },
     "execution_count": 21,
     "metadata": {},
     "output_type": "execute_result"
    }
   ],
   "source": [
    "time=int(\"\".join(lines[0].split()[1:]))\n",
    "distance=int(\"\".join(lines[1].split()[1:]))\n",
    "time,distance"
   ]
  },
  {
   "cell_type": "code",
   "execution_count": 22,
   "id": "ed721a9d-4812-4d46-aa7b-ea801f50a7c3",
   "metadata": {},
   "outputs": [
    {
     "data": {
      "text/plain": [
       "71503"
      ]
     },
     "execution_count": 22,
     "metadata": {},
     "output_type": "execute_result"
    }
   ],
   "source": [
    "t=time\n",
    "d=distance\n",
    "(D(arange(t+1),t=t)>d).sum()"
   ]
  },
  {
   "cell_type": "code",
   "execution_count": 23,
   "id": "48c6dac1-836d-4b23-9a07-06038b31d88d",
   "metadata": {},
   "outputs": [
    {
     "data": {
      "text/plain": [
       "2"
      ]
     },
     "execution_count": 23,
     "metadata": {},
     "output_type": "execute_result"
    }
   ],
   "source": [
    "S=open('data/day6.txt').read().strip()\n",
    "lines=S.split('\\n')\n",
    "len(lines)"
   ]
  },
  {
   "cell_type": "code",
   "execution_count": 24,
   "id": "c610b03c-d01a-417a-ae73-1344b1104510",
   "metadata": {},
   "outputs": [
    {
     "data": {
      "text/plain": [
       "(53916768, 250133010811025)"
      ]
     },
     "execution_count": 24,
     "metadata": {},
     "output_type": "execute_result"
    }
   ],
   "source": [
    "time=int(\"\".join(lines[0].split()[1:]))\n",
    "distance=int(\"\".join(lines[1].split()[1:]))\n",
    "time,distance"
   ]
  },
  {
   "cell_type": "code",
   "execution_count": 25,
   "id": "eb58cb36-ffc3-4dca-9fb3-d08ddbf8e799",
   "metadata": {},
   "outputs": [
    {
     "data": {
      "text/plain": [
       "43663323"
      ]
     },
     "execution_count": 25,
     "metadata": {},
     "output_type": "execute_result"
    }
   ],
   "source": [
    "t=time\n",
    "d=distance\n",
    "(D(arange(t+1),t=t)>d).sum()"
   ]
  },
  {
   "cell_type": "code",
   "execution_count": null,
   "id": "b545f7c1-20f6-4555-9202-b43fdc4a59ad",
   "metadata": {},
   "outputs": [],
   "source": []
  }
 ],
 "metadata": {
  "kernelspec": {
   "display_name": "Python 3 (ipykernel)",
   "language": "python",
   "name": "python3"
  },
  "language_info": {
   "codemirror_mode": {
    "name": "ipython",
    "version": 3
   },
   "file_extension": ".py",
   "mimetype": "text/x-python",
   "name": "python",
   "nbconvert_exporter": "python",
   "pygments_lexer": "ipython3",
   "version": "3.11.5"
  }
 },
 "nbformat": 4,
 "nbformat_minor": 5
}
