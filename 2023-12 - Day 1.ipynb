{
 "cells": [
  {
   "cell_type": "markdown",
   "id": "37b23adb-1e9e-40c7-bada-1cbf4479e9d4",
   "metadata": {},
   "source": [
    "## Part 1\n",
    "\n"
   ]
  },
  {
   "cell_type": "markdown",
   "id": "d9d4dd25-6420-45d5-bcf3-00a351d588e4",
   "metadata": {},
   "source": [
    "    The newly-improved calibration document consists of lines of text; each line originally contained a specific calibration value that the Elves now need to recover. On each line, the calibration value can be found by combining the first digit and the last digit (in that order) to form a single two-digit number.\n",
    "    \n",
    "    For example:\n",
    "    \n",
    "    1abc2\n",
    "    pqr3stu8vwx\n",
    "    a1b2c3d4e5f\n",
    "    treb7uchet\n",
    "    In this example, the calibration values of these four lines are 12, 38, 15, and 77. Adding these together produces 142.\n",
    "    \n"
   ]
  },
  {
   "cell_type": "code",
   "execution_count": 7,
   "id": "f4f90b7a-8453-4694-ab97-ceff0890cbe6",
   "metadata": {},
   "outputs": [],
   "source": [
    "from numpy import *"
   ]
  },
  {
   "cell_type": "code",
   "execution_count": 8,
   "id": "8e888d8e-8639-4602-994c-5c7e3c8042d9",
   "metadata": {},
   "outputs": [],
   "source": [
    "S=\"\"\"\n",
    "1abc2\n",
    "pqr3stu8vwx\n",
    "a1b2c3d4e5f\n",
    "treb7uchet\"\"\".strip()"
   ]
  },
  {
   "cell_type": "code",
   "execution_count": 9,
   "id": "96965258-e48f-47ee-bfd5-0ff2d7279994",
   "metadata": {},
   "outputs": [],
   "source": [
    "lines=S.split('\\n')"
   ]
  },
  {
   "cell_type": "code",
   "execution_count": 10,
   "id": "1706b4fd-8929-4c41-8326-2653ccf38211",
   "metadata": {},
   "outputs": [],
   "source": [
    "for line in lines:\n",
    "    pass"
   ]
  },
  {
   "cell_type": "code",
   "execution_count": 11,
   "id": "30d9d5a9-8a80-4a2e-9095-5328ac8131d1",
   "metadata": {},
   "outputs": [
    {
     "data": {
      "text/plain": [
       "'treb7uchet'"
      ]
     },
     "execution_count": 11,
     "metadata": {},
     "output_type": "execute_result"
    }
   ],
   "source": [
    "line"
   ]
  },
  {
   "cell_type": "code",
   "execution_count": 15,
   "id": "58982182-2372-4e93-af9a-48c33c748872",
   "metadata": {},
   "outputs": [
    {
     "data": {
      "text/plain": [
       "array([116, 114, 101,  98,  55, 117,  99, 104, 101, 116])"
      ]
     },
     "execution_count": 15,
     "metadata": {},
     "output_type": "execute_result"
    }
   ],
   "source": [
    "arr=array([ord(_) for _ in line])\n",
    "arr"
   ]
  },
  {
   "cell_type": "code",
   "execution_count": 16,
   "id": "28aa7473-7444-4438-bfcb-250b2c539775",
   "metadata": {},
   "outputs": [
    {
     "data": {
      "text/plain": [
       "array([55])"
      ]
     },
     "execution_count": 16,
     "metadata": {},
     "output_type": "execute_result"
    }
   ],
   "source": [
    "arr=arr[ (arr>=ord('0')) & (arr<=ord('9'))]\n",
    "arr"
   ]
  },
  {
   "cell_type": "code",
   "execution_count": 19,
   "id": "8193678a-a01b-4ff6-9b71-5980a1512111",
   "metadata": {},
   "outputs": [
    {
     "data": {
      "text/plain": [
       "77"
      ]
     },
     "execution_count": 19,
     "metadata": {},
     "output_type": "execute_result"
    }
   ],
   "source": [
    "int(chr(arr[0])+chr(arr[-1]))"
   ]
  },
  {
   "cell_type": "code",
   "execution_count": 20,
   "id": "e4425499-c569-48af-85e9-b5ea5a88e118",
   "metadata": {},
   "outputs": [
    {
     "data": {
      "text/plain": [
       "([12, 38, 15, 77], 142)"
      ]
     },
     "execution_count": 20,
     "metadata": {},
     "output_type": "execute_result"
    }
   ],
   "source": [
    "nums=[]\n",
    "for line in lines:\n",
    "    arr=array([ord(_) for _ in line])\n",
    "    arr=arr[ (arr>=ord('0')) & (arr<=ord('9'))]\n",
    "    val=int(chr(arr[0])+chr(arr[-1]))\n",
    "    nums.append(val)\n",
    "\n",
    "nums,sum(nums)"
   ]
  },
  {
   "cell_type": "code",
   "execution_count": 21,
   "id": "62696ad9-2e8e-4f80-b601-7a89250224d6",
   "metadata": {},
   "outputs": [
    {
     "data": {
      "text/plain": [
       "1000"
      ]
     },
     "execution_count": 21,
     "metadata": {},
     "output_type": "execute_result"
    }
   ],
   "source": [
    "S=open('data/day1.txt').read().strip()\n",
    "lines=S.split('\\n')\n",
    "len(lines)"
   ]
  },
  {
   "cell_type": "code",
   "execution_count": 22,
   "id": "259cd8be-ffea-4024-9290-696cb441a784",
   "metadata": {},
   "outputs": [
    {
     "data": {
      "text/plain": [
       "55477"
      ]
     },
     "execution_count": 22,
     "metadata": {},
     "output_type": "execute_result"
    }
   ],
   "source": [
    "nums=[]\n",
    "for line in lines:\n",
    "    arr=array([ord(_) for _ in line])\n",
    "    arr=arr[ (arr>=ord('0')) & (arr<=ord('9'))]\n",
    "    val=int(chr(arr[0])+chr(arr[-1]))\n",
    "    nums.append(val)\n",
    "\n",
    "sum(nums)"
   ]
  },
  {
   "cell_type": "markdown",
   "id": "b3a4b1e3-06a0-4a09-9ac7-43b98e105940",
   "metadata": {},
   "source": [
    "## Part 2"
   ]
  },
  {
   "cell_type": "markdown",
   "id": "7ae90d9f-99da-4dc6-907c-0e34f368c8e1",
   "metadata": {},
   "source": [
    "    Your calculation isn't quite right. It looks like some of the digits are actually spelled out with letters: one, two, three, four, five, six, seven, eight, and nine also count as valid \"digits\".\n",
    "    \n",
    "    Equipped with this new information, you now need to find the real first and last digit on each line. For example:\n",
    "    \n",
    "    two1nine\n",
    "    eightwothree\n",
    "    abcone2threexyz\n",
    "    xtwone3four\n",
    "    4nineeightseven2\n",
    "    zoneight234\n",
    "    7pqrstsixteen\n",
    "    In this example, the calibration values are 29, 83, 13, 24, 42, 14, and 76. Adding these together produces 281."
   ]
  },
  {
   "cell_type": "code",
   "execution_count": 32,
   "id": "cd8a39f7-9bfe-466b-ab10-09540ce2f3fb",
   "metadata": {},
   "outputs": [
    {
     "data": {
      "text/plain": [
       "7"
      ]
     },
     "execution_count": 32,
     "metadata": {},
     "output_type": "execute_result"
    }
   ],
   "source": [
    "S=\"\"\"\n",
    "two1nine\n",
    "eightwothree\n",
    "abcone2threexyz\n",
    "xtwone3four\n",
    "4nineeightseven2\n",
    "zoneight234\n",
    "7pqrstsixteen\"\"\".strip()\n",
    "lines=S.split('\\n')\n",
    "len(lines)"
   ]
  },
  {
   "cell_type": "code",
   "execution_count": 33,
   "id": "05c55c2c-cf3c-491b-9d2b-48b236035cd9",
   "metadata": {},
   "outputs": [
    {
     "data": {
      "text/plain": [
       "['two1nine',\n",
       " 'eightwothree',\n",
       " 'abcone2threexyz',\n",
       " 'xtwone3four',\n",
       " '4nineeightseven2',\n",
       " 'zoneight234',\n",
       " '7pqrstsixteen']"
      ]
     },
     "execution_count": 33,
     "metadata": {},
     "output_type": "execute_result"
    }
   ],
   "source": [
    "lines"
   ]
  },
  {
   "cell_type": "code",
   "execution_count": 37,
   "id": "268281de-9d8c-4044-93f0-0f3980dd0d68",
   "metadata": {},
   "outputs": [
    {
     "name": "stdout",
     "output_type": "stream",
     "text": [
      "two1nine ::219\n",
      "eightwothree ::8wo3\n",
      "abcone2threexyz ::abc123xyz\n",
      "xtwone3four ::x2ne34\n",
      "4nineeightseven2 ::49872\n",
      "zoneight234 ::z1ight234\n",
      "7pqrstsixteen ::7pqrst6teen\n"
     ]
    },
    {
     "data": {
      "text/plain": [
       "([29, 83, 13, 24, 42, 14, 76], 281)"
      ]
     },
     "execution_count": 37,
     "metadata": {},
     "output_type": "execute_result"
    }
   ],
   "source": [
    "nums=[]\n",
    "for line in lines:\n",
    "    print(line,\"::\",end=\"\")\n",
    "\n",
    "    while True:\n",
    "        idx=[]\n",
    "        digit_name=[]   # xtwone3four have to deal with two happening before one\n",
    "        digits=['zero','one','two','three','four','five','six','seven','eight','nine']\n",
    "        for i,name in enumerate(digits):\n",
    "            try:\n",
    "                idx.append(line.index(name))\n",
    "                digit_name.append(name)\n",
    "            except ValueError:\n",
    "                pass\n",
    "        if idx:\n",
    "            i=argmin(idx)\n",
    "            line=line.replace(digit_name[i],str(digits.index(digit_name[i])))\n",
    "        else:\n",
    "            break\n",
    "                          \n",
    "    print(line)\n",
    "        \n",
    "    \n",
    "    arr=array([ord(_) for _ in line])\n",
    "    arr=arr[ (arr>=ord('0')) & (arr<=ord('9'))]\n",
    "    val=int(chr(arr[0])+chr(arr[-1]))\n",
    "    nums.append(val)\n",
    "\n",
    "nums,sum(nums)"
   ]
  },
  {
   "cell_type": "code",
   "execution_count": 28,
   "id": "56427ef4-ee79-4fd5-88a6-7ef2e2ead9b6",
   "metadata": {},
   "outputs": [
    {
     "data": {
      "text/plain": [
       "52"
      ]
     },
     "execution_count": 28,
     "metadata": {},
     "output_type": "execute_result"
    }
   ],
   "source": []
  },
  {
   "cell_type": "code",
   "execution_count": 42,
   "id": "3346b4fb-1d68-4c81-bb4d-c9e446fce790",
   "metadata": {},
   "outputs": [
    {
     "data": {
      "text/plain": [
       "1000"
      ]
     },
     "execution_count": 42,
     "metadata": {},
     "output_type": "execute_result"
    }
   ],
   "source": [
    "S=open('data/day1.txt').read().strip()\n",
    "lines=S.split('\\n')\n",
    "len(lines)"
   ]
  },
  {
   "cell_type": "code",
   "execution_count": 43,
   "id": "a796b007-3826-4bf2-aaaa-f24a67b105fd",
   "metadata": {},
   "outputs": [
    {
     "data": {
      "text/plain": [
       "54428"
      ]
     },
     "execution_count": 43,
     "metadata": {},
     "output_type": "execute_result"
    }
   ],
   "source": [
    "nums=[]\n",
    "for line in lines:\n",
    "    #print(line,\"::\",end=\"\")\n",
    "    while True:\n",
    "        idx=[]\n",
    "        digit_name=[]   # xtwone3four have to deal with two happening before one\n",
    "        digits=['zero','one','two','three','four','five','six','seven','eight','nine']\n",
    "        for i,name in enumerate(digits):\n",
    "            try:\n",
    "                idx.append(line.index(name))\n",
    "                digit_name.append(name)\n",
    "            except ValueError:\n",
    "                pass\n",
    "        if idx:\n",
    "            i=argmin(idx)\n",
    "            line=line.replace(digit_name[i],str(digits.index(digit_name[i])))\n",
    "        else:\n",
    "            break\n",
    "                          \n",
    "        \n",
    "    #print(line,\" \",end=\"\")\n",
    "    arr=array([ord(_) for _ in line])\n",
    "    arr=arr[ (arr>=ord('0')) & (arr<=ord('9'))]\n",
    "    val=int(chr(arr[0])+chr(arr[-1]))\n",
    "    #print(val)\n",
    "    nums.append(val)\n",
    "\n",
    "sum(nums)"
   ]
  },
  {
   "cell_type": "code",
   "execution_count": 47,
   "id": "72bd23b4-f430-4461-a7d6-bdee2e4d9c4b",
   "metadata": {},
   "outputs": [
    {
     "data": {
      "text/plain": [
       "(11, 99)"
      ]
     },
     "execution_count": 47,
     "metadata": {},
     "output_type": "execute_result"
    }
   ],
   "source": [
    "min(nums),max(nums)"
   ]
  },
  {
   "cell_type": "markdown",
   "id": "63dfaa19-2c63-4656-a826-a9bdeaa76127",
   "metadata": {},
   "source": [
    "somehow this is wrong?  compare to someone elses solution to see which line I'm failing.  it's zfxbzhczcx9eightwockk"
   ]
  },
  {
   "cell_type": "code",
   "execution_count": 81,
   "id": "daa4a2e6-f9dc-4df2-8ab3-dca60aa2fcc7",
   "metadata": {},
   "outputs": [
    {
     "name": "stdout",
     "output_type": "stream",
     "text": [
      "54431\n"
     ]
    }
   ],
   "source": [
    "import re\n",
    "\n",
    "file = open('data/day1.txt', 'r')\n",
    "lines = [line.rstrip() for line in file]\n",
    "digits = {'zero':0, 'one':1, 'two':2, 'three':3, 'four':4, 'five':5, 'six':6, 'seven':7, 'eight':8, 'nine':9}\n",
    "totParte1 = 0 \n",
    "totParte2 = 0 \n",
    "\n",
    "def parte1(lines):\n",
    "\tsomma = 0\n",
    "\tfor line in lines:\n",
    "\t\tnum = [c for c in line if c.isnumeric()]\n",
    "\t\tsomma += int(num[0]+num[-1])\n",
    "\treturn somma\n",
    "\n",
    "def parte2(lines):\n",
    "    somma = 0\n",
    "    vals=[]\n",
    "    r = r'(?=(one|two|three|four|five|six|seven|eight|nine|\\d))'\n",
    "    pattern = re.compile(r)\n",
    "    for line in lines:\n",
    "        words = []\n",
    "        for word in pattern.findall(line):\n",
    "            if(word in digits):\n",
    "                words.append(str(digits[word]))\n",
    "            else: \n",
    "                words.append(word)\t\n",
    "                \n",
    "        vals.append(int(words[0]+words[-1]))\n",
    "        somma += int(words[0]+words[-1])\n",
    "    return somma,vals\n",
    "\n",
    "totParte1 = parte1(lines)\n",
    "totParte2,vals = parte2(lines)\n",
    "print(totParte2)"
   ]
  },
  {
   "cell_type": "code",
   "execution_count": 82,
   "id": "815c6fde-0506-498c-99a2-ccf0e90ecdaf",
   "metadata": {},
   "outputs": [
    {
     "data": {
      "text/plain": [
       "(1000, 1000)"
      ]
     },
     "execution_count": 82,
     "metadata": {},
     "output_type": "execute_result"
    }
   ],
   "source": [
    "len(vals),len(nums)"
   ]
  },
  {
   "cell_type": "code",
   "execution_count": 83,
   "id": "bfd20adf-3684-4793-957c-8fdbc093be20",
   "metadata": {},
   "outputs": [],
   "source": [
    "idx=where(array(vals)!=array(nums))[0]"
   ]
  },
  {
   "cell_type": "code",
   "execution_count": 84,
   "id": "60929564-5855-46a0-9d91-2fd061772a51",
   "metadata": {},
   "outputs": [
    {
     "data": {
      "text/plain": [
       "array([ 14,  17, 171, 258, 277, 343, 379, 414, 486, 563, 575, 687, 692,\n",
       "       770, 773, 802, 806, 834, 859, 869, 965])"
      ]
     },
     "execution_count": 84,
     "metadata": {},
     "output_type": "execute_result"
    }
   ],
   "source": [
    "idx"
   ]
  },
  {
   "cell_type": "code",
   "execution_count": 85,
   "id": "c58a91ed-98c4-45f8-859d-e0a6287799b4",
   "metadata": {},
   "outputs": [
    {
     "data": {
      "text/plain": [
       "'zfxbzhczcx9eightwockk'"
      ]
     },
     "execution_count": 85,
     "metadata": {},
     "output_type": "execute_result"
    }
   ],
   "source": [
    "lines[14]"
   ]
  },
  {
   "cell_type": "code",
   "execution_count": 86,
   "id": "fd92046f-90be-4cdc-91b4-2811ee958be5",
   "metadata": {},
   "outputs": [
    {
     "data": {
      "text/plain": [
       "92"
      ]
     },
     "execution_count": 86,
     "metadata": {},
     "output_type": "execute_result"
    }
   ],
   "source": [
    "vals[14]"
   ]
  },
  {
   "cell_type": "code",
   "execution_count": 87,
   "id": "11356a39-8f22-49b1-9659-5bff87ff7e84",
   "metadata": {},
   "outputs": [
    {
     "data": {
      "text/plain": [
       "98"
      ]
     },
     "execution_count": 87,
     "metadata": {},
     "output_type": "execute_result"
    }
   ],
   "source": [
    "nums[14]"
   ]
  },
  {
   "cell_type": "code",
   "execution_count": 88,
   "id": "d16c57db-165d-4b75-9a74-6605a4d7f5a2",
   "metadata": {},
   "outputs": [
    {
     "data": {
      "text/plain": [
       "54428"
      ]
     },
     "execution_count": 88,
     "metadata": {},
     "output_type": "execute_result"
    }
   ],
   "source": [
    "nums=[]\n",
    "for line in lines:\n",
    "    #print(line,\"::\",end=\"\")\n",
    "    while True:\n",
    "        idx=[]\n",
    "        digit_name=[]   # xtwone3four have to deal with two happening before one and zfxbzhczcx9eightwockk  yuck!  have to iterate chars\n",
    "        digits=['zero','one','two','three','four','five','six','seven','eight','nine']\n",
    "        for i,name in enumerate(digits):\n",
    "            try:\n",
    "                idx.append(line.index(name))\n",
    "                digit_name.append(name)\n",
    "            except ValueError:\n",
    "                pass\n",
    "        if idx:\n",
    "            i=argmin(idx)\n",
    "            line=line.replace(digit_name[i],str(digits.index(digit_name[i])))\n",
    "        else:\n",
    "            break\n",
    "                          \n",
    "        \n",
    "    #print(line,\" \",end=\"\")\n",
    "    arr=array([ord(_) for _ in line])\n",
    "    arr=arr[ (arr>=ord('0')) & (arr<=ord('9'))]\n",
    "    val=int(chr(arr[0])+chr(arr[-1]))\n",
    "    #print(val)\n",
    "    nums.append(val)\n",
    "\n",
    "sum(nums)"
   ]
  },
  {
   "cell_type": "code",
   "execution_count": 68,
   "id": "bf4f2d9a-96b5-4003-9b67-7f7a202440e3",
   "metadata": {},
   "outputs": [
    {
     "data": {
      "text/plain": [
       "'5bszzkpcdxqkvkf7tgc12'"
      ]
     },
     "execution_count": 68,
     "metadata": {},
     "output_type": "execute_result"
    }
   ],
   "source": [
    "line"
   ]
  },
  {
   "cell_type": "code",
   "execution_count": 76,
   "id": "81daa44f-ab46-4213-b100-fb696778feb9",
   "metadata": {},
   "outputs": [],
   "source": [
    "def find_first(line):\n",
    "\n",
    "    D={'zero':0,\n",
    "       'one':1,\n",
    "       'two':2,\n",
    "       'three':3,\n",
    "       'four':4,\n",
    "       'five':5,\n",
    "       'six':6,\n",
    "       'seven':7,\n",
    "       'eight':8,\n",
    "       'nine':9}\n",
    "\n",
    "    for i in range(10):\n",
    "        D[str(i)]=i\n",
    "    idx=[]\n",
    "    all_keys=[]\n",
    "    for key in D:\n",
    "        try:\n",
    "            idx.append(line.index(key))\n",
    "            all_keys.append(key)\n",
    "        except ValueError:\n",
    "            pass\n",
    "         \n",
    "    i=argmin(idx)\n",
    "    digit=str(D[all_keys[i]])\n",
    "\n",
    "    return digit\n",
    "\n",
    "\n",
    "def find_last(line):\n",
    "\n",
    "    D={'zero':0,\n",
    "       'one':1,\n",
    "       'two':2,\n",
    "       'three':3,\n",
    "       'four':4,\n",
    "       'five':5,\n",
    "       'six':6,\n",
    "       'seven':7,\n",
    "       'eight':8,\n",
    "       'nine':9}\n",
    "\n",
    "    line=line[::-1]  # reverse\n",
    "    for i in range(10):\n",
    "        D[str(i)]=i\n",
    "    idx=[]\n",
    "    all_keys=[]\n",
    "    for key in D:\n",
    "        try:\n",
    "            idx.append(line.index(key[::-1]))\n",
    "            all_keys.append(key)\n",
    "        except ValueError:\n",
    "            pass\n",
    "         \n",
    "    i=argmin(idx)\n",
    "    digit=str(D[all_keys[i]])\n",
    "\n",
    "    return digit"
   ]
  },
  {
   "cell_type": "code",
   "execution_count": 77,
   "id": "b7725201-46df-4e7a-b135-49436446b3f3",
   "metadata": {},
   "outputs": [
    {
     "data": {
      "text/plain": [
       "'3894sevenfourfour'"
      ]
     },
     "execution_count": 77,
     "metadata": {},
     "output_type": "execute_result"
    }
   ],
   "source": [
    "line"
   ]
  },
  {
   "cell_type": "code",
   "execution_count": 79,
   "id": "152a42db-3b72-4f0e-b606-42218101741c",
   "metadata": {},
   "outputs": [
    {
     "data": {
      "text/plain": [
       "('3', '4')"
      ]
     },
     "execution_count": 79,
     "metadata": {},
     "output_type": "execute_result"
    }
   ],
   "source": [
    "find_first(line),find_last(line)"
   ]
  },
  {
   "cell_type": "code",
   "execution_count": 80,
   "id": "5e8a19c0-8cf6-439f-bab6-938be8ad8380",
   "metadata": {},
   "outputs": [
    {
     "name": "stdout",
     "output_type": "stream",
     "text": [
      "9eightone ::9 1\n",
      "hczsqfour3nxm5seven4 ::4 4\n",
      "9twopjqkghmbone ::9 1\n",
      "rhrfthv886vflthreeztvzs ::8 3\n",
      "tlbtwo62five ::2 5\n",
      "ninetwonine234nvtlzxzczx ::9 4\n",
      "28sevenseven ::2 7\n",
      "2sevensxszqdhjg2threexzjj3 ::2 3\n",
      "2fvq ::2 2\n",
      "781dk97eight26 ::7 6\n",
      "plfrsjtbl6 ::6 6\n",
      "sixglj13 ::6 3\n",
      "b3seven6817gjpcxseven ::3 7\n",
      "3fivenlqcbszfoursixfive6sixfb ::3 6\n",
      "zfxbzhczcx9eightwockk ::9 2\n",
      "threedssqrlk2qnpkzpkdddt ::3 2\n",
      "three67fourkbrlkf7mtbjprrth2 ::3 2\n",
      "seven3oneightp ::7 8\n",
      "31three ::3 3\n",
      "3894sevenfourfour ::3 4\n"
     ]
    }
   ],
   "source": [
    "for line in lines[:20]:\n",
    "    print(line,\"::\",end=\"\")\n",
    "    print(find_first(line),find_last(line))"
   ]
  },
  {
   "cell_type": "code",
   "execution_count": 89,
   "id": "31660d78-f382-40f2-a2cb-1b2da56b7502",
   "metadata": {},
   "outputs": [
    {
     "data": {
      "text/plain": [
       "54431"
      ]
     },
     "execution_count": 89,
     "metadata": {},
     "output_type": "execute_result"
    }
   ],
   "source": [
    "nums=[]\n",
    "for line in lines:\n",
    "    val=int(find_first(line)+find_last(line))\n",
    "    nums.append(val)\n",
    "\n",
    "sum(nums)"
   ]
  },
  {
   "cell_type": "code",
   "execution_count": null,
   "id": "367e36fe-fd44-4b2d-98d4-8c0a2f175e0b",
   "metadata": {},
   "outputs": [],
   "source": []
  }
 ],
 "metadata": {
  "kernelspec": {
   "display_name": "Python 3 (ipykernel)",
   "language": "python",
   "name": "python3"
  },
  "language_info": {
   "codemirror_mode": {
    "name": "ipython",
    "version": 3
   },
   "file_extension": ".py",
   "mimetype": "text/x-python",
   "name": "python",
   "nbconvert_exporter": "python",
   "pygments_lexer": "ipython3",
   "version": "3.11.5"
  }
 },
 "nbformat": 4,
 "nbformat_minor": 5
}
