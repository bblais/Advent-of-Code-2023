{
 "cells": [
  {
   "cell_type": "markdown",
   "id": "d4e39cd9-dcc1-4d44-b1cb-433f12ed52bf",
   "metadata": {},
   "source": [
    "https://adventofcode.com/2023/day/2\n",
    "    \n",
    "    For example, the record of a few games might look like this:\n",
    "    \n",
    "    Game 1: 3 blue, 4 red; 1 red, 2 green, 6 blue; 2 green\n",
    "    Game 2: 1 blue, 2 green; 3 green, 4 blue, 1 red; 1 green, 1 blue\n",
    "    Game 3: 8 green, 6 blue, 20 red; 5 blue, 4 red, 13 green; 5 green, 1 red\n",
    "    Game 4: 1 green, 3 red, 6 blue; 3 green, 6 red; 3 green, 15 blue, 14 red\n",
    "    Game 5: 6 red, 1 blue, 3 green; 2 blue, 1 red, 2 green\n",
    "    In game 1, three sets of cubes are revealed from the bag (and then put back again). The first set is 3 blue cubes and 4 red cubes; the second set is 1 red cube, 2 green cubes, and 6 blue cubes; the third set is only 2 green cubes.\n",
    "    \n",
    "    The Elf would first like to know which games would have been possible if the bag contained only 12 red cubes, 13 green cubes, and 14 blue cubes?\n",
    "    \n",
    "    In the example above, games 1, 2, and 5 would have been possible if the bag had been loaded with that configuration. However, game 3 would have been impossible because at one point the Elf showed you 20 red cubes at once; similarly, game 4 would also have been impossible because the Elf showed you 15 blue cubes at once. If you add up the IDs of the games that would have been possible, you get 8."
   ]
  },
  {
   "cell_type": "code",
   "execution_count": 3,
   "id": "29fbb1ac-a742-444f-b566-ea65335183c3",
   "metadata": {},
   "outputs": [],
   "source": [
    "S=\"\"\"\n",
    "Game 1: 3 blue, 4 red; 1 red, 2 green, 6 blue; 2 green\n",
    "Game 2: 1 blue, 2 green; 3 green, 4 blue, 1 red; 1 green, 1 blue\n",
    "Game 3: 8 green, 6 blue, 20 red; 5 blue, 4 red, 13 green; 5 green, 1 red\n",
    "Game 4: 1 green, 3 red, 6 blue; 3 green, 6 red; 3 green, 15 blue, 14 red\n",
    "Game 5: 6 red, 1 blue, 3 green; 2 blue, 1 red, 2 green\n",
    "\"\"\".strip()\n",
    "lines=S.split('\\n')"
   ]
  },
  {
   "cell_type": "code",
   "execution_count": 22,
   "id": "53188b17-7ed1-43b9-aaba-a837ce77edca",
   "metadata": {},
   "outputs": [],
   "source": [
    "global verbose\n",
    "verbose=False"
   ]
  },
  {
   "cell_type": "code",
   "execution_count": 23,
   "id": "960bb64d-0e66-40e0-8181-513fcfc743f6",
   "metadata": {},
   "outputs": [],
   "source": [
    "import builtins\n",
    "\n",
    "def print(*args, **kwargs):\n",
    "    global verbose\n",
    "    if verbose:\n",
    "        return builtins.print(*args, **kwargs)\n"
   ]
  },
  {
   "cell_type": "code",
   "execution_count": 24,
   "id": "e0eff549-3157-4e97-be20-db9763b33566",
   "metadata": {},
   "outputs": [],
   "source": [
    "print(\"hello\")"
   ]
  },
  {
   "cell_type": "code",
   "execution_count": 26,
   "id": "755822b6-2a77-4267-aef1-274deddb44f3",
   "metadata": {},
   "outputs": [
    {
     "data": {
      "text/plain": [
       "2283"
      ]
     },
     "execution_count": 26,
     "metadata": {},
     "output_type": "execute_result"
    }
   ],
   "source": [
    "limits={'red':12,'green':13,'blue':14}\n",
    "\n",
    "\n",
    "total=0\n",
    "for line in lines:\n",
    "    print(line)\n",
    "    game_id=int(line.split(':')[0].split(' ')[-1])\n",
    "    sets=line.split(':')[-1].split(';')\n",
    "\n",
    "    stop=False\n",
    "    for cube_set in sets:\n",
    "        parts=cube_set.split(',')\n",
    "        for part in parts:\n",
    "            val,color=int(part.split()[0]),part.split()[1]\n",
    "            limit=limits.get(color,1e500)\n",
    "            print(\"\\t\",val,color,limit,end=\"\")\n",
    "            if val>limit:\n",
    "                print(\" BAD\")\n",
    "                stop=True\n",
    "                break\n",
    "            else:\n",
    "                print(\" OK\")\n",
    "        if stop:\n",
    "            break\n",
    "    if not stop:        \n",
    "        total+=game_id\n",
    "\n",
    "\n",
    "total\n"
   ]
  },
  {
   "cell_type": "code",
   "execution_count": 27,
   "id": "6912e5d6-e79b-4814-9e4a-c10a6b9be7a4",
   "metadata": {},
   "outputs": [
    {
     "data": {
      "text/plain": [
       "100"
      ]
     },
     "execution_count": 27,
     "metadata": {},
     "output_type": "execute_result"
    }
   ],
   "source": [
    "S=open('data/day2.txt').read().strip()\n",
    "lines=S.split('\\n')\n",
    "len(lines)"
   ]
  },
  {
   "cell_type": "code",
   "execution_count": 29,
   "id": "48806d83-2770-4474-9b71-fa6f38f64d50",
   "metadata": {},
   "outputs": [
    {
     "data": {
      "text/plain": [
       "2283"
      ]
     },
     "execution_count": 29,
     "metadata": {},
     "output_type": "execute_result"
    }
   ],
   "source": [
    "limits={'red':12,'green':13,'blue':14}\n",
    "\n",
    "total=0\n",
    "for line in lines:\n",
    "    print(line)\n",
    "    game_id=int(line.split(':')[0].split(' ')[-1])\n",
    "    sets=line.split(':')[-1].split(';')\n",
    "\n",
    "    stop=False\n",
    "    for cube_set in sets:\n",
    "        parts=cube_set.split(',')\n",
    "        for part in parts:\n",
    "            val,color=int(part.split()[0]),part.split()[1]\n",
    "            limit=limits.get(color,1e500)\n",
    "            print(\"\\t\",val,color,limit,end=\"\")\n",
    "            if val>limit:\n",
    "                print(\" BAD\")\n",
    "                stop=True\n",
    "                break\n",
    "            else:\n",
    "                print(\" OK\")\n",
    "        if stop:\n",
    "            break\n",
    "    if not stop:        \n",
    "        total+=game_id\n",
    "\n",
    "\n",
    "total"
   ]
  },
  {
   "cell_type": "markdown",
   "id": "411351eb-b75d-4fd5-a8e2-55ecab24ed6a",
   "metadata": {},
   "source": [
    "## Part 2\n",
    "\n",
    "    what is the fewest number of cubes of each color that could have been in the bag to make the game possible?\n",
    "    \n",
    "    Again consider the example games from earlier:\n",
    "    \n",
    "    Game 1: 3 blue, 4 red; 1 red, 2 green, 6 blue; 2 green\n",
    "    Game 2: 1 blue, 2 green; 3 green, 4 blue, 1 red; 1 green, 1 blue\n",
    "    Game 3: 8 green, 6 blue, 20 red; 5 blue, 4 red, 13 green; 5 green, 1 red\n",
    "    Game 4: 1 green, 3 red, 6 blue; 3 green, 6 red; 3 green, 15 blue, 14 red\n",
    "    Game 5: 6 red, 1 blue, 3 green; 2 blue, 1 red, 2 green\n",
    "    In game 1, the game could have been played with as few as 4 red, 2 green, and 6 blue cubes. If any color had even one fewer cube, the game would have been impossible.\n",
    "    Game 2 could have been played with a minimum of 1 red, 3 green, and 4 blue cubes.\n",
    "    Game 3 must have been played with at least 20 red, 13 green, and 6 blue cubes.\n",
    "    Game 4 required at least 14 red, 3 green, and 15 blue cubes.\n",
    "    Game 5 needed no fewer than 6 red, 3 green, and 2 blue cubes in the bag.\n",
    "    The power of a set of cubes is equal to the numbers of red, green, and blue cubes multiplied together. The power of the minimum set of cubes in game 1 is 48. In games 2-5 it was 12, 1560, 630, and 36, respectively. Adding up these five powers produces the sum 2286.\n",
    "    \n",
    "    For each game, find the minimum set of cubes that must have been present. What is the sum of the power of these sets?"
   ]
  },
  {
   "cell_type": "code",
   "execution_count": 30,
   "id": "8fa945d0-6348-4aaa-9d79-e620ba0477e0",
   "metadata": {},
   "outputs": [],
   "source": []
  },
  {
   "cell_type": "code",
   "execution_count": 31,
   "id": "c7898665-764d-49b0-8441-e8e2c7932ace",
   "metadata": {},
   "outputs": [],
   "source": [
    "S=\"\"\"\n",
    "Game 1: 3 blue, 4 red; 1 red, 2 green, 6 blue; 2 green\n",
    "Game 2: 1 blue, 2 green; 3 green, 4 blue, 1 red; 1 green, 1 blue\n",
    "Game 3: 8 green, 6 blue, 20 red; 5 blue, 4 red, 13 green; 5 green, 1 red\n",
    "Game 4: 1 green, 3 red, 6 blue; 3 green, 6 red; 3 green, 15 blue, 14 red\n",
    "Game 5: 6 red, 1 blue, 3 green; 2 blue, 1 red, 2 green\n",
    "\"\"\".strip()\n",
    "lines=S.split('\\n')"
   ]
  },
  {
   "cell_type": "code",
   "execution_count": 32,
   "id": "1fbddba1-2fa4-4c3f-abef-fcb91fe02e82",
   "metadata": {},
   "outputs": [
    {
     "name": "stdout",
     "output_type": "stream",
     "text": [
      "Game 1: 3 blue, 4 red; 1 red, 2 green, 6 blue; 2 green\n",
      "\t 3 blue\n",
      "\t 4 red\n",
      "\t 1 red\n",
      "\t 2 green\n",
      "\t 6 blue\n",
      "\t 2 green\n",
      "\t power: 48\n",
      "Game 2: 1 blue, 2 green; 3 green, 4 blue, 1 red; 1 green, 1 blue\n",
      "\t 1 blue\n",
      "\t 2 green\n",
      "\t 3 green\n",
      "\t 4 blue\n",
      "\t 1 red\n",
      "\t 1 green\n",
      "\t 1 blue\n",
      "\t power: 12\n",
      "Game 3: 8 green, 6 blue, 20 red; 5 blue, 4 red, 13 green; 5 green, 1 red\n",
      "\t 8 green\n",
      "\t 6 blue\n",
      "\t 20 red\n",
      "\t 5 blue\n",
      "\t 4 red\n",
      "\t 13 green\n",
      "\t 5 green\n",
      "\t 1 red\n",
      "\t power: 1560\n",
      "Game 4: 1 green, 3 red, 6 blue; 3 green, 6 red; 3 green, 15 blue, 14 red\n",
      "\t 1 green\n",
      "\t 3 red\n",
      "\t 6 blue\n",
      "\t 3 green\n",
      "\t 6 red\n",
      "\t 3 green\n",
      "\t 15 blue\n",
      "\t 14 red\n",
      "\t power: 630\n",
      "Game 5: 6 red, 1 blue, 3 green; 2 blue, 1 red, 2 green\n",
      "\t 6 red\n",
      "\t 1 blue\n",
      "\t 3 green\n",
      "\t 2 blue\n",
      "\t 1 red\n",
      "\t 2 green\n",
      "\t power: 36\n"
     ]
    },
    {
     "data": {
      "text/plain": [
       "2286"
      ]
     },
     "execution_count": 32,
     "metadata": {},
     "output_type": "execute_result"
    }
   ],
   "source": [
    "verbose=True\n",
    "total=0\n",
    "for line in lines:\n",
    "    print(line)\n",
    "    game_id=int(line.split(':')[0].split(' ')[-1])\n",
    "    sets=line.split(':')[-1].split(';')\n",
    "\n",
    "    stop=False\n",
    "    limits={'red':[],'green':[],'blue':[]}\n",
    "    for cube_set in sets:\n",
    "        parts=cube_set.split(',')\n",
    "        for part in parts:\n",
    "            val,color=int(part.split()[0]),part.split()[1]\n",
    "            print(\"\\t\",val,color)\n",
    "\n",
    "            limits[color].append(val)\n",
    "\n",
    "    power=1\n",
    "    for key in limits:\n",
    "        power*=max(limits[key])\n",
    "    print(\"\\t\",\"power:\",power)\n",
    "    total+=power\n",
    "\n",
    "total"
   ]
  },
  {
   "cell_type": "code",
   "execution_count": 33,
   "id": "834696cb-dcff-43f8-9bd2-2351a45df385",
   "metadata": {},
   "outputs": [
    {
     "data": {
      "text/plain": [
       "100"
      ]
     },
     "execution_count": 33,
     "metadata": {},
     "output_type": "execute_result"
    }
   ],
   "source": [
    "S=open('data/day2.txt').read().strip()\n",
    "lines=S.split('\\n')\n",
    "len(lines)"
   ]
  },
  {
   "cell_type": "code",
   "execution_count": 34,
   "id": "4f724f4d-a08d-40a5-b27d-ba21b1bdd13c",
   "metadata": {},
   "outputs": [
    {
     "data": {
      "text/plain": [
       "78669"
      ]
     },
     "execution_count": 34,
     "metadata": {},
     "output_type": "execute_result"
    }
   ],
   "source": [
    "verbose=False\n",
    "total=0\n",
    "for line in lines:\n",
    "    print(line)\n",
    "    game_id=int(line.split(':')[0].split(' ')[-1])\n",
    "    sets=line.split(':')[-1].split(';')\n",
    "\n",
    "    stop=False\n",
    "    limits={'red':[],'green':[],'blue':[]}\n",
    "    for cube_set in sets:\n",
    "        parts=cube_set.split(',')\n",
    "        for part in parts:\n",
    "            val,color=int(part.split()[0]),part.split()[1]\n",
    "            print(\"\\t\",val,color)\n",
    "\n",
    "            limits[color].append(val)\n",
    "\n",
    "    power=1\n",
    "    for key in limits:\n",
    "        power*=max(limits[key])\n",
    "    print(\"\\t\",\"power:\",power)\n",
    "    total+=power\n",
    "\n",
    "total"
   ]
  },
  {
   "cell_type": "code",
   "execution_count": null,
   "id": "8745797d-625b-4c6e-ac99-29f679bc8c35",
   "metadata": {},
   "outputs": [],
   "source": []
  }
 ],
 "metadata": {
  "kernelspec": {
   "display_name": "Python 3 (ipykernel)",
   "language": "python",
   "name": "python3"
  },
  "language_info": {
   "codemirror_mode": {
    "name": "ipython",
    "version": 3
   },
   "file_extension": ".py",
   "mimetype": "text/x-python",
   "name": "python",
   "nbconvert_exporter": "python",
   "pygments_lexer": "ipython3",
   "version": "3.11.5"
  }
 },
 "nbformat": 4,
 "nbformat_minor": 5
}
