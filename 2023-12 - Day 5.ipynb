{
 "cells": [
  {
   "cell_type": "markdown",
   "id": "1d1932e8-d0a2-43fe-bbb9-dec3d71287ca",
   "metadata": {},
   "source": [
    "    The almanac (your puzzle input) lists all of the seeds that need to be planted. It also lists what type of soil to use with each kind of seed, what type of fertilizer to use with each kind of soil, what type of water to use with each kind of fertilizer, and so on. Every type of seed, soil, fertilizer and so on is identified with a number, but numbers are reused by each category - that is, soil 123 and fertilizer 123 aren't necessarily related to each other.\n",
    "    \n",
    "    For example:\n",
    "    \n",
    "    seeds: 79 14 55 13\n",
    "    \n",
    "    seed-to-soil map:\n",
    "    50 98 2\n",
    "    52 50 48\n",
    "    \n",
    "    soil-to-fertilizer map:\n",
    "    0 15 37\n",
    "    37 52 2\n",
    "    39 0 15\n",
    "    \n",
    "    fertilizer-to-water map:\n",
    "    49 53 8\n",
    "    0 11 42\n",
    "    42 0 7\n",
    "    57 7 4\n",
    "    \n",
    "    water-to-light map:\n",
    "    88 18 7\n",
    "    18 25 70\n",
    "    \n",
    "    light-to-temperature map:\n",
    "    45 77 23\n",
    "    81 45 19\n",
    "    68 64 13\n",
    "    \n",
    "    temperature-to-humidity map:\n",
    "    0 69 1\n",
    "    1 0 69\n",
    "    \n",
    "    humidity-to-location map:\n",
    "    60 56 37\n",
    "    56 93 4\n",
    "    The almanac starts by listing which seeds need to be planted: seeds 79, 14, 55, and 13.\n",
    "    \n",
    "    The rest of the almanac contains a list of maps which describe how to convert numbers from a source category into numbers in a destination category. That is, the section that starts with seed-to-soil map: describes how to convert a seed number (the source) to a soil number (the destination). This lets the gardener and his team know which soil to use with which seeds, which water to use with which fertilizer, and so on.\n",
    "    \n",
    "    Rather than list every source number and its corresponding destination number one by one, the maps describe entire ranges of numbers that can be converted. Each line within a map contains three numbers: the destination range start, the source range start, and the range length.\n",
    "    \n",
    "    Consider again the example seed-to-soil map:\n",
    "    \n",
    "    50 98 2\n",
    "    52 50 48\n",
    "    The first line has a destination range start of 50, a source range start of 98, and a range length of 2. This line means that the source range starts at 98 and contains two values: 98 and 99. The destination range is the same length, but it starts at 50, so its two values are 50 and 51. With this information, you know that seed number 98 corresponds to soil number 50 and that seed number 99 corresponds to soil number 51.\n",
    "    \n",
    "    The second line means that the source range starts at 50 and contains 48 values: 50, 51, ..., 96, 97. This corresponds to a destination range starting at 52 and also containing 48 values: 52, 53, ..., 98, 99. So, seed number 53 corresponds to soil number 55.\n",
    "    \n",
    "    Any source numbers that aren't mapped correspond to the same destination number. So, seed number 10 corresponds to soil number 10.\n",
    "    \n",
    "    So, the entire list of seed numbers and their corresponding soil numbers looks like this:\n",
    "    \n",
    "    seed  soil\n",
    "    0     0\n",
    "    1     1\n",
    "    ...   ...\n",
    "    48    48\n",
    "    49    49\n",
    "    50    52\n",
    "    51    53\n",
    "    ...   ...\n",
    "    96    98\n",
    "    97    99\n",
    "    98    50\n",
    "    99    51\n",
    "    With this map, you can look up the soil number required for each initial seed number:\n",
    "    \n",
    "    Seed number 79 corresponds to soil number 81.\n",
    "    Seed number 14 corresponds to soil number 14.\n",
    "    Seed number 55 corresponds to soil number 57.\n",
    "    Seed number 13 corresponds to soil number 13.\n",
    "    The gardener and his team want to get started as soon as possible, so they'd like to know the closest location that needs a seed. Using these maps, find the lowest location number that corresponds to any of the initial seeds. To do this, you'll need to convert each seed number through other categories until you can find its corresponding location number. In this example, the corresponding types are:\n",
    "    \n",
    "    Seed 79, soil 81, fertilizer 81, water 81, light 74, temperature 78, humidity 78, location 82.\n",
    "    Seed 14, soil 14, fertilizer 53, water 49, light 42, temperature 42, humidity 43, location 43.\n",
    "    Seed 55, soil 57, fertilizer 57, water 53, light 46, temperature 82, humidity 82, location 86.\n",
    "    Seed 13, soil 13, fertilizer 52, water 41, light 34, temperature 34, humidity 35, location 35.\n",
    "    So, the lowest location number in this example is 35.\n",
    "    \n",
    "    What is the lowest location number that corresponds to any of the initial seed numbers?"
   ]
  },
  {
   "cell_type": "code",
   "execution_count": 2,
   "id": "c7be0920-4c10-4f6b-ac4a-a5bfca64c8a9",
   "metadata": {},
   "outputs": [],
   "source": [
    "S=\"\"\"\n",
    "seeds: 79 14 55 13\n",
    "\n",
    "seed-to-soil map:\n",
    "50 98 2\n",
    "52 50 48\n",
    "\n",
    "soil-to-fertilizer map:\n",
    "0 15 37\n",
    "37 52 2\n",
    "39 0 15\n",
    "\n",
    "fertilizer-to-water map:\n",
    "49 53 8\n",
    "0 11 42\n",
    "42 0 7\n",
    "57 7 4\n",
    "\n",
    "water-to-light map:\n",
    "88 18 7\n",
    "18 25 70\n",
    "\n",
    "light-to-temperature map:\n",
    "45 77 23\n",
    "81 45 19\n",
    "68 64 13\n",
    "\n",
    "temperature-to-humidity map:\n",
    "0 69 1\n",
    "1 0 69\n",
    "\n",
    "humidity-to-location map:\n",
    "60 56 37\n",
    "56 93 4\n",
    "\"\"\"\n",
    "lines=S.split(\"\\n\")"
   ]
  },
  {
   "cell_type": "code",
   "execution_count": 53,
   "id": "f0a3d841-550b-4bd1-84b3-adeb0bf394c1",
   "metadata": {},
   "outputs": [],
   "source": [
    "class Map:\n",
    "\n",
    "    def __init__(self,line):\n",
    "        self.source=line.split('-')[0]\n",
    "        self.destination=line.split('-')[-1].split(' ')[0]\n",
    "        self.ranges=[]\n",
    "        \n",
    "    def __repr__(self):\n",
    "        S=f\"{self.source} to {self.destination}\"\n",
    "        if self.ranges:\n",
    "            S+=str(self.ranges)\n",
    "        return S\n",
    "\n",
    "    def _add_range(self,line):\n",
    "        vals=[int(_) for _ in line.split()]\n",
    "        self.ranges.append(vals)\n",
    "\n",
    "\n",
    "\n",
    "    def __getitem__(self,item):\n",
    "        src_index=None\n",
    "        dst_index=None\n",
    "        for d,s,l in self.ranges:\n",
    "            if s<=item<=s+l:\n",
    "                src_index=item\n",
    "                dst_index=(item-s)+d\n",
    "                break\n",
    "\n",
    "        if src_index is None:\n",
    "            src_index=item\n",
    "            dst_index=item\n",
    "\n",
    "        return self.source,src_index,self.destination,dst_index\n"
   ]
  },
  {
   "cell_type": "code",
   "execution_count": 54,
   "id": "3bd4ad92-a8f3-481e-a06b-04e83861af89",
   "metadata": {},
   "outputs": [
    {
     "name": "stdout",
     "output_type": "stream",
     "text": [
      "[79, 14, 55, 13]\n",
      "{'seed': seed to soil[[50, 98, 2], [52, 50, 48]], 'soil': soil to fertilizer[[0, 15, 37], [37, 52, 2], [39, 0, 15]], 'fertilizer': fertilizer to water[[49, 53, 8], [0, 11, 42], [42, 0, 7], [57, 7, 4]], 'water': water to light[[88, 18, 7], [18, 25, 70]], 'light': light to temperature[[45, 77, 23], [81, 45, 19], [68, 64, 13]], 'temperature': temperature to humidity[[0, 69, 1], [1, 0, 69]], 'humidity': humidity to location[[60, 56, 37], [56, 93, 4]]}\n"
     ]
    }
   ],
   "source": [
    "maps={}\n",
    "m=None\n",
    "for line in lines:\n",
    "    if line.startswith('seeds:'):\n",
    "        seeds=[int(_) for _ in line.split(\":\")[1].split()]\n",
    "        continue\n",
    "\n",
    "    if line and line[0] not in '0123456789':\n",
    "        m=Map(line)\n",
    "        continue \n",
    "        \n",
    "    if not line and m:\n",
    "        maps[m.source]=m\n",
    "        m=None\n",
    "    elif m:\n",
    "        m._add_range(line)\n",
    "        \n",
    "\n",
    "print(seeds)\n",
    "print(maps)"
   ]
  },
  {
   "cell_type": "code",
   "execution_count": 55,
   "id": "3ff21971-4133-46d9-bf33-e1fc4694cab3",
   "metadata": {},
   "outputs": [
    {
     "data": {
      "text/plain": [
       "seed to soil[[50, 98, 2], [52, 50, 48]]"
      ]
     },
     "execution_count": 55,
     "metadata": {},
     "output_type": "execute_result"
    }
   ],
   "source": [
    "m=maps['seed']\n",
    "m"
   ]
  },
  {
   "cell_type": "code",
   "execution_count": 56,
   "id": "9a3f83fa-5d0d-4769-bd05-06265c3fc90e",
   "metadata": {},
   "outputs": [
    {
     "data": {
      "text/plain": [
       "('seed', 300, 'soil', 300)"
      ]
     },
     "execution_count": 56,
     "metadata": {},
     "output_type": "execute_result"
    }
   ],
   "source": [
    "m[300]"
   ]
  },
  {
   "cell_type": "code",
   "execution_count": 57,
   "id": "5599ee5e-0b10-4f39-ad4f-004a04a51d8a",
   "metadata": {},
   "outputs": [
    {
     "data": {
      "text/plain": [
       "('seed', 99, 'soil', 51)"
      ]
     },
     "execution_count": 57,
     "metadata": {},
     "output_type": "execute_result"
    }
   ],
   "source": [
    "m[99]"
   ]
  },
  {
   "cell_type": "code",
   "execution_count": 58,
   "id": "b47f5d13-1ecc-42d6-9414-4724bece0fae",
   "metadata": {},
   "outputs": [
    {
     "name": "stdout",
     "output_type": "stream",
     "text": [
      "('seed', 0, 'soil', 0)\n",
      "('seed', 1, 'soil', 1)\n",
      "('seed', 2, 'soil', 2)\n",
      "('seed', 3, 'soil', 3)\n",
      "('seed', 4, 'soil', 4)\n",
      "('seed', 5, 'soil', 5)\n",
      "('seed', 6, 'soil', 6)\n",
      "('seed', 7, 'soil', 7)\n",
      "('seed', 8, 'soil', 8)\n",
      "('seed', 9, 'soil', 9)\n",
      "('seed', 10, 'soil', 10)\n",
      "('seed', 11, 'soil', 11)\n",
      "('seed', 12, 'soil', 12)\n",
      "('seed', 13, 'soil', 13)\n",
      "('seed', 14, 'soil', 14)\n",
      "('seed', 15, 'soil', 15)\n",
      "('seed', 16, 'soil', 16)\n",
      "('seed', 17, 'soil', 17)\n",
      "('seed', 18, 'soil', 18)\n",
      "('seed', 19, 'soil', 19)\n",
      "('seed', 20, 'soil', 20)\n",
      "('seed', 21, 'soil', 21)\n",
      "('seed', 22, 'soil', 22)\n",
      "('seed', 23, 'soil', 23)\n",
      "('seed', 24, 'soil', 24)\n",
      "('seed', 25, 'soil', 25)\n",
      "('seed', 26, 'soil', 26)\n",
      "('seed', 27, 'soil', 27)\n",
      "('seed', 28, 'soil', 28)\n",
      "('seed', 29, 'soil', 29)\n",
      "('seed', 30, 'soil', 30)\n",
      "('seed', 31, 'soil', 31)\n",
      "('seed', 32, 'soil', 32)\n",
      "('seed', 33, 'soil', 33)\n",
      "('seed', 34, 'soil', 34)\n",
      "('seed', 35, 'soil', 35)\n",
      "('seed', 36, 'soil', 36)\n",
      "('seed', 37, 'soil', 37)\n",
      "('seed', 38, 'soil', 38)\n",
      "('seed', 39, 'soil', 39)\n",
      "('seed', 40, 'soil', 40)\n",
      "('seed', 41, 'soil', 41)\n",
      "('seed', 42, 'soil', 42)\n",
      "('seed', 43, 'soil', 43)\n",
      "('seed', 44, 'soil', 44)\n",
      "('seed', 45, 'soil', 45)\n",
      "('seed', 46, 'soil', 46)\n",
      "('seed', 47, 'soil', 47)\n",
      "('seed', 48, 'soil', 48)\n",
      "('seed', 49, 'soil', 49)\n",
      "('seed', 50, 'soil', 52)\n",
      "('seed', 51, 'soil', 53)\n",
      "('seed', 52, 'soil', 54)\n",
      "('seed', 53, 'soil', 55)\n",
      "('seed', 54, 'soil', 56)\n",
      "('seed', 55, 'soil', 57)\n",
      "('seed', 56, 'soil', 58)\n",
      "('seed', 57, 'soil', 59)\n",
      "('seed', 58, 'soil', 60)\n",
      "('seed', 59, 'soil', 61)\n",
      "('seed', 60, 'soil', 62)\n",
      "('seed', 61, 'soil', 63)\n",
      "('seed', 62, 'soil', 64)\n",
      "('seed', 63, 'soil', 65)\n",
      "('seed', 64, 'soil', 66)\n",
      "('seed', 65, 'soil', 67)\n",
      "('seed', 66, 'soil', 68)\n",
      "('seed', 67, 'soil', 69)\n",
      "('seed', 68, 'soil', 70)\n",
      "('seed', 69, 'soil', 71)\n",
      "('seed', 70, 'soil', 72)\n",
      "('seed', 71, 'soil', 73)\n",
      "('seed', 72, 'soil', 74)\n",
      "('seed', 73, 'soil', 75)\n",
      "('seed', 74, 'soil', 76)\n",
      "('seed', 75, 'soil', 77)\n",
      "('seed', 76, 'soil', 78)\n",
      "('seed', 77, 'soil', 79)\n",
      "('seed', 78, 'soil', 80)\n",
      "('seed', 79, 'soil', 81)\n",
      "('seed', 80, 'soil', 82)\n",
      "('seed', 81, 'soil', 83)\n",
      "('seed', 82, 'soil', 84)\n",
      "('seed', 83, 'soil', 85)\n",
      "('seed', 84, 'soil', 86)\n",
      "('seed', 85, 'soil', 87)\n",
      "('seed', 86, 'soil', 88)\n",
      "('seed', 87, 'soil', 89)\n",
      "('seed', 88, 'soil', 90)\n",
      "('seed', 89, 'soil', 91)\n",
      "('seed', 90, 'soil', 92)\n",
      "('seed', 91, 'soil', 93)\n",
      "('seed', 92, 'soil', 94)\n",
      "('seed', 93, 'soil', 95)\n",
      "('seed', 94, 'soil', 96)\n",
      "('seed', 95, 'soil', 97)\n",
      "('seed', 96, 'soil', 98)\n",
      "('seed', 97, 'soil', 99)\n",
      "('seed', 98, 'soil', 50)\n",
      "('seed', 99, 'soil', 51)\n"
     ]
    }
   ],
   "source": [
    "for i in range(100):\n",
    "    print(m[i])"
   ]
  },
  {
   "cell_type": "code",
   "execution_count": 59,
   "id": "1da9d08d-26ec-49ea-80e9-e1c1a4cfe9da",
   "metadata": {},
   "outputs": [
    {
     "name": "stdout",
     "output_type": "stream",
     "text": [
      "seed 79 soil 81\n",
      "soil 81 fertilizer 81\n",
      "fertilizer 81 water 81\n",
      "water 81 light 74\n",
      "light 74 temperature 78\n",
      "temperature 78 humidity 78\n",
      "humidity 78 location 82\n"
     ]
    }
   ],
   "source": [
    "name,val='seed',79\n",
    "\n",
    "while True:\n",
    "    m=maps[name]\n",
    "    src,src_i,dst,dst_i=m[val]\n",
    "    print(src,src_i,dst,dst_i)\n",
    "\n",
    "    name,val=dst,dst_i\n",
    "\n",
    "    if name not in maps:\n",
    "        break"
   ]
  },
  {
   "cell_type": "code",
   "execution_count": 60,
   "id": "b40da62c-907d-409c-a4a0-a73df5e767c1",
   "metadata": {},
   "outputs": [
    {
     "data": {
      "text/plain": [
       "82"
      ]
     },
     "execution_count": 60,
     "metadata": {},
     "output_type": "execute_result"
    }
   ],
   "source": [
    "dst_i"
   ]
  },
  {
   "cell_type": "code",
   "execution_count": 61,
   "id": "f4ca03e2-6445-455f-98a4-917db58e0469",
   "metadata": {},
   "outputs": [],
   "source": [
    "def get_location(maps,seed=None,verbose=False):\n",
    "    name,val='seed',seed\n",
    "    \n",
    "    while True:\n",
    "        m=maps[name]\n",
    "        src,src_i,dst,dst_i=m[val]\n",
    "        if verbose:\n",
    "            print(src,src_i,dst,dst_i)\n",
    "    \n",
    "        name,val=dst,dst_i\n",
    "    \n",
    "        if name not in maps:\n",
    "            break  \n",
    "\n",
    "    assert name=='location'\n",
    "    return dst_i"
   ]
  },
  {
   "cell_type": "code",
   "execution_count": 62,
   "id": "2273d9de-5cb7-4aec-934b-fd3fe77690f7",
   "metadata": {},
   "outputs": [
    {
     "name": "stdout",
     "output_type": "stream",
     "text": [
      "seed 79 soil 81\n",
      "soil 81 fertilizer 81\n",
      "fertilizer 81 water 81\n",
      "water 81 light 74\n",
      "light 74 temperature 78\n",
      "temperature 78 humidity 78\n",
      "humidity 78 location 82\n"
     ]
    },
    {
     "data": {
      "text/plain": [
       "82"
      ]
     },
     "execution_count": 62,
     "metadata": {},
     "output_type": "execute_result"
    }
   ],
   "source": [
    "get_location(maps,seed=79,verbose=True)"
   ]
  },
  {
   "cell_type": "code",
   "execution_count": 63,
   "id": "8784cc1f-617d-4f3f-a5c4-f16599d995f1",
   "metadata": {},
   "outputs": [
    {
     "data": {
      "text/plain": [
       "[82, 43, 86, 35]"
      ]
     },
     "execution_count": 63,
     "metadata": {},
     "output_type": "execute_result"
    }
   ],
   "source": [
    "[get_location(maps,seed=seed) for seed in seeds]"
   ]
  },
  {
   "cell_type": "code",
   "execution_count": 64,
   "id": "22c4b306-48d1-4be2-9afe-3356b59fdbb0",
   "metadata": {},
   "outputs": [
    {
     "data": {
      "text/plain": [
       "35"
      ]
     },
     "execution_count": 64,
     "metadata": {},
     "output_type": "execute_result"
    }
   ],
   "source": [
    "min([get_location(maps,seed=seed) for seed in seeds])"
   ]
  },
  {
   "cell_type": "code",
   "execution_count": 71,
   "id": "c2a6d80a-6f3a-4bf0-a7b7-8cc35825df93",
   "metadata": {},
   "outputs": [
    {
     "data": {
      "text/plain": [
       "244"
      ]
     },
     "execution_count": 71,
     "metadata": {},
     "output_type": "execute_result"
    }
   ],
   "source": [
    "S=open('data/day5.txt').read().strip()\n",
    "lines=S.split('\\n')\n",
    "len(lines)"
   ]
  },
  {
   "cell_type": "code",
   "execution_count": 76,
   "id": "98a993ca-adca-4b86-975a-bf1a3a5f490f",
   "metadata": {},
   "outputs": [],
   "source": [
    "maps={}\n",
    "m=None\n",
    "for line in lines:\n",
    "    if line.startswith('seeds:'):\n",
    "        seeds=[int(_) for _ in line.split(\":\")[1].split()]\n",
    "        continue\n",
    "\n",
    "    if line and line[0] not in '0123456789':\n",
    "        m=Map(line)\n",
    "        continue \n",
    "        \n",
    "    if not line and m:\n",
    "        maps[m.source]=m\n",
    "        m=None\n",
    "    elif m:\n",
    "        m._add_range(line)\n",
    "        \n",
    "if m:\n",
    "    maps[m.source]=m\n",
    "    \n"
   ]
  },
  {
   "cell_type": "code",
   "execution_count": 77,
   "id": "c71a0d26-bf87-449d-af5b-f3a16fe38918",
   "metadata": {},
   "outputs": [
    {
     "data": {
      "text/plain": [
       "[564468486,\n",
       " 226119074,\n",
       " 3264322485,\n",
       " 135071952,\n",
       " 3144185610,\n",
       " 89794463,\n",
       " 1560365167,\n",
       " 555667043,\n",
       " 2419038624,\n",
       " 7808461,\n",
       " 1264209624,\n",
       " 9380035,\n",
       " 105823719,\n",
       " 425973940,\n",
       " 4115473551,\n",
       " 104486997,\n",
       " 3784956593,\n",
       " 300187503,\n",
       " 975280918,\n",
       " 257129208]"
      ]
     },
     "execution_count": 77,
     "metadata": {},
     "output_type": "execute_result"
    }
   ],
   "source": [
    "seeds"
   ]
  },
  {
   "cell_type": "code",
   "execution_count": 78,
   "id": "e7c16dfe-7de3-4924-a9a1-f27c8e47ab19",
   "metadata": {},
   "outputs": [
    {
     "data": {
      "text/plain": [
       "340994526"
      ]
     },
     "execution_count": 78,
     "metadata": {},
     "output_type": "execute_result"
    }
   ],
   "source": [
    "min([get_location(maps,seed=seed) for seed in seeds])"
   ]
  },
  {
   "cell_type": "code",
   "execution_count": null,
   "id": "87a7a63d-c26c-43ab-9a4e-59e487062e0c",
   "metadata": {},
   "outputs": [],
   "source": []
  }
 ],
 "metadata": {
  "kernelspec": {
   "display_name": "Python 3 (ipykernel)",
   "language": "python",
   "name": "python3"
  },
  "language_info": {
   "codemirror_mode": {
    "name": "ipython",
    "version": 3
   },
   "file_extension": ".py",
   "mimetype": "text/x-python",
   "name": "python",
   "nbconvert_exporter": "python",
   "pygments_lexer": "ipython3",
   "version": "3.11.5"
  }
 },
 "nbformat": 4,
 "nbformat_minor": 5
}
