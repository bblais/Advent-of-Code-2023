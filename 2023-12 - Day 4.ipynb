{
 "cells": [
  {
   "cell_type": "markdown",
   "id": "5e1568ef-6af1-4fbd-bc11-1d16af4d8594",
   "metadata": {},
   "source": [
    "    For example:\n",
    "    \n",
    "    Card 1: 41 48 83 86 17 | 83 86  6 31 17  9 48 53\n",
    "    Card 2: 13 32 20 16 61 | 61 30 68 82 17 32 24 19\n",
    "    Card 3:  1 21 53 59 44 | 69 82 63 72 16 21 14  1\n",
    "    Card 4: 41 92 73 84 69 | 59 84 76 51 58  5 54 83\n",
    "    Card 5: 87 83 26 28 32 | 88 30 70 12 93 22 82 36\n",
    "    Card 6: 31 18 13 56 72 | 74 77 10 23 35 67 36 11\n",
    "    In the above example, card 1 has five winning numbers (41, 48, 83, 86, and 17) and eight numbers you have (83, 86, 6, 31, 17, 9, 48, and 53). Of the numbers you have, four of them (48, 83, 17, and 86) are winning numbers! That means card 1 is worth 8 points (1 for the first match, then doubled three times for each of the three matches after the first).\n",
    "    \n",
    "    Card 2 has two winning numbers (32 and 61), so it is worth 2 points.\n",
    "    Card 3 has two winning numbers (1 and 21), so it is worth 2 points.\n",
    "    Card 4 has one winning number (84), so it is worth 1 point.\n",
    "    Card 5 has no winning numbers, so it is worth no points.\n",
    "    Card 6 has no winning numbers, so it is worth no points.\n",
    "    So, in this example, the Elf's pile of scratchcards is worth 13 points.\n",
    "    \n"
   ]
  },
  {
   "cell_type": "code",
   "execution_count": 1,
   "id": "9d28e286-1cfb-40ce-b8b9-ca3eaaa11cd7",
   "metadata": {},
   "outputs": [],
   "source": [
    "S=\"\"\"\n",
    "Card 1: 41 48 83 86 17 | 83 86  6 31 17  9 48 53\n",
    "Card 2: 13 32 20 16 61 | 61 30 68 82 17 32 24 19\n",
    "Card 3:  1 21 53 59 44 | 69 82 63 72 16 21 14  1\n",
    "Card 4: 41 92 73 84 69 | 59 84 76 51 58  5 54 83\n",
    "Card 5: 87 83 26 28 32 | 88 30 70 12 93 22 82 36\n",
    "Card 6: 31 18 13 56 72 | 74 77 10 23 35 67 36 11\n",
    "\"\"\".strip()"
   ]
  },
  {
   "cell_type": "code",
   "execution_count": 2,
   "id": "53fdabd7-d270-4d85-9e01-89b61ef9bba6",
   "metadata": {},
   "outputs": [],
   "source": [
    "lines=S.split('\\n')\n",
    "line=lines[0]"
   ]
  },
  {
   "cell_type": "code",
   "execution_count": 3,
   "id": "da1a5907-c83d-429a-b2e4-1b4a0c391ed4",
   "metadata": {},
   "outputs": [
    {
     "data": {
      "text/plain": [
       "'Card 1: 41 48 83 86 17 | 83 86  6 31 17  9 48 53'"
      ]
     },
     "execution_count": 3,
     "metadata": {},
     "output_type": "execute_result"
    }
   ],
   "source": [
    "line"
   ]
  },
  {
   "cell_type": "code",
   "execution_count": 4,
   "id": "f1d8afd4-ad20-4ed6-b3e6-d2dc1623e204",
   "metadata": {},
   "outputs": [
    {
     "data": {
      "text/plain": [
       "[[[41, 48, 83, 86, 17], [83, 86, 6, 31, 17, 9, 48, 53]],\n",
       " [[13, 32, 20, 16, 61], [61, 30, 68, 82, 17, 32, 24, 19]],\n",
       " [[1, 21, 53, 59, 44], [69, 82, 63, 72, 16, 21, 14, 1]],\n",
       " [[41, 92, 73, 84, 69], [59, 84, 76, 51, 58, 5, 54, 83]],\n",
       " [[87, 83, 26, 28, 32], [88, 30, 70, 12, 93, 22, 82, 36]],\n",
       " [[31, 18, 13, 56, 72], [74, 77, 10, 23, 35, 67, 36, 11]]]"
      ]
     },
     "execution_count": 4,
     "metadata": {},
     "output_type": "execute_result"
    }
   ],
   "source": [
    "data=[]\n",
    "for line in lines:\n",
    "    data.append(\n",
    "    [[int(_) for _ in line.split(':')[1].split('|')[0].split()],\n",
    "        [int(_) for _ in line.split(':')[1].split('|')[1].split()]]\n",
    "    )\n",
    "data"
   ]
  },
  {
   "cell_type": "code",
   "execution_count": 5,
   "id": "cdacac97-d50c-4ae1-9572-46e2408d6809",
   "metadata": {},
   "outputs": [
    {
     "name": "stdout",
     "output_type": "stream",
     "text": [
      "[48, 17, 83, 86]\n",
      "[32, 61]\n",
      "[1, 21]\n",
      "[84]\n",
      "[]\n",
      "[]\n",
      "13\n"
     ]
    }
   ],
   "source": [
    "total=0\n",
    "for part1,part2 in data:\n",
    "    overlap=list(set(part1)&set(part2))\n",
    "    if overlap:\n",
    "        total+=2**(len(overlap)-1)\n",
    "    print(overlap)\n",
    "\n",
    "print(total)\n"
   ]
  },
  {
   "cell_type": "code",
   "execution_count": 6,
   "id": "7e75ff5a-d4f9-45ac-ad83-e09c3f9c53fc",
   "metadata": {},
   "outputs": [
    {
     "data": {
      "text/plain": [
       "211"
      ]
     },
     "execution_count": 6,
     "metadata": {},
     "output_type": "execute_result"
    }
   ],
   "source": [
    "S=open('data/day4.txt').read().strip()\n",
    "lines=S.split('\\n')\n",
    "len(lines)"
   ]
  },
  {
   "cell_type": "code",
   "execution_count": 7,
   "id": "2be7e3a4-1f12-430e-aa83-80e775c81fce",
   "metadata": {},
   "outputs": [
    {
     "name": "stdout",
     "output_type": "stream",
     "text": [
      "23673\n"
     ]
    }
   ],
   "source": [
    "data=[]\n",
    "for line in lines:\n",
    "    data.append(\n",
    "    [[int(_) for _ in line.split(':')[1].split('|')[0].split()],\n",
    "        [int(_) for _ in line.split(':')[1].split('|')[1].split()]]\n",
    "    )\n",
    "\n",
    "total=0\n",
    "for part1,part2 in data:\n",
    "    overlap=list(set(part1)&set(part2))\n",
    "    if overlap:\n",
    "        total+=2**(len(overlap)-1)\n",
    "\n",
    "print(total)\n"
   ]
  },
  {
   "cell_type": "markdown",
   "id": "597f0aec-019e-4759-a6cf-d0bd9b524ef7",
   "metadata": {},
   "source": [
    "    This time, the above example goes differently:\n",
    "    \n",
    "    Card 1: 41 48 83 86 17 | 83 86  6 31 17  9 48 53\n",
    "    Card 2: 13 32 20 16 61 | 61 30 68 82 17 32 24 19\n",
    "    Card 3:  1 21 53 59 44 | 69 82 63 72 16 21 14  1\n",
    "    Card 4: 41 92 73 84 69 | 59 84 76 51 58  5 54 83\n",
    "    Card 5: 87 83 26 28 32 | 88 30 70 12 93 22 82 36\n",
    "    Card 6: 31 18 13 56 72 | 74 77 10 23 35 67 36 11\n",
    "    Card 1 has four matching numbers, so you win one copy each of the next four cards: cards 2, 3, 4, and 5.\n",
    "    Your original card 2 has two matching numbers, so you win one copy each of cards 3 and 4.\n",
    "    Your copy of card 2 also wins one copy each of cards 3 and 4.\n",
    "    Your four instances of card 3 (one original and three copies) have two matching numbers, so you win four copies each of cards 4 and 5.\n",
    "    Your eight instances of card 4 (one original and seven copies) have one matching number, so you win eight copies of card 5.\n",
    "    Your fourteen instances of card 5 (one original and thirteen copies) have no matching numbers and win no more cards.\n",
    "    Your one instance of card 6 (one original) has no matching numbers and wins no more cards.\n",
    "    Once all of the originals and copies have been processed, you end up with 1 instance of card 1, 2 instances of card 2, 4 instances of card 3, 8 instances of card 4, 14 instances of card 5, and 1 instance of card 6. In total, this example pile of scratchcards causes you to ultimately have 30 scratchcards!"
   ]
  },
  {
   "cell_type": "code",
   "execution_count": 8,
   "id": "266255bb-d4dc-4791-89a8-f6cc51be873e",
   "metadata": {},
   "outputs": [],
   "source": [
    "S=\"\"\"\n",
    "Card 1: 41 48 83 86 17 | 83 86  6 31 17  9 48 53\n",
    "Card 2: 13 32 20 16 61 | 61 30 68 82 17 32 24 19\n",
    "Card 3:  1 21 53 59 44 | 69 82 63 72 16 21 14  1\n",
    "Card 4: 41 92 73 84 69 | 59 84 76 51 58  5 54 83\n",
    "Card 5: 87 83 26 28 32 | 88 30 70 12 93 22 82 36\n",
    "Card 6: 31 18 13 56 72 | 74 77 10 23 35 67 36 11\n",
    "\"\"\".strip()"
   ]
  },
  {
   "cell_type": "code",
   "execution_count": 9,
   "id": "26294cde-b852-4ab4-a720-346dac30f478",
   "metadata": {},
   "outputs": [],
   "source": [
    "lines=S.split('\\n')\n",
    "line=lines[0]"
   ]
  },
  {
   "cell_type": "code",
   "execution_count": 10,
   "id": "33d6fffa-8659-4399-abb7-f812896fe5ba",
   "metadata": {},
   "outputs": [
    {
     "data": {
      "text/plain": [
       "[[[41, 48, 83, 86, 17], [83, 86, 6, 31, 17, 9, 48, 53]],\n",
       " [[13, 32, 20, 16, 61], [61, 30, 68, 82, 17, 32, 24, 19]],\n",
       " [[1, 21, 53, 59, 44], [69, 82, 63, 72, 16, 21, 14, 1]],\n",
       " [[41, 92, 73, 84, 69], [59, 84, 76, 51, 58, 5, 54, 83]],\n",
       " [[87, 83, 26, 28, 32], [88, 30, 70, 12, 93, 22, 82, 36]],\n",
       " [[31, 18, 13, 56, 72], [74, 77, 10, 23, 35, 67, 36, 11]]]"
      ]
     },
     "execution_count": 10,
     "metadata": {},
     "output_type": "execute_result"
    }
   ],
   "source": [
    "data=[]\n",
    "for line in lines:\n",
    "    data.append(\n",
    "    [[int(_) for _ in line.split(':')[1].split('|')[0].split()],\n",
    "        [int(_) for _ in line.split(':')[1].split('|')[1].split()]]\n",
    "    )\n",
    "data"
   ]
  },
  {
   "cell_type": "code",
   "execution_count": 15,
   "id": "2526de7f-4dc2-4022-bc37-912943a9284c",
   "metadata": {},
   "outputs": [
    {
     "name": "stdout",
     "output_type": "stream",
     "text": [
      "Copying...1  2  3  4  \n",
      "1 [48, 17, 83, 86]\n",
      "Copying...2  3  \n",
      "2 [32, 61]\n",
      "Copying...3  4  \n",
      "4 [1, 21]\n",
      "Copying...4  \n",
      "8 [84]\n",
      "14 []\n",
      "1 []\n",
      "[1, 2, 4, 8, 14, 1]\n",
      "30\n"
     ]
    }
   ],
   "source": [
    "total=0\n",
    "copies=[1]*len(data)\n",
    "for i,(part1,part2) in enumerate(data):\n",
    "    overlap=list(set(part1)&set(part2))\n",
    "    if overlap:\n",
    "        L=len(overlap)\n",
    "        print(\"Copying...\",end=\"\")\n",
    "        for j in range(i+1,i+L+1):\n",
    "            print(j,\" \",end=\"\")\n",
    "            copies[j]+=copies[i]\n",
    "        print()\n",
    "    print(copies[i],overlap)\n",
    "\n",
    "print(copies)\n",
    "print(sum(copies))\n"
   ]
  },
  {
   "cell_type": "code",
   "execution_count": 16,
   "id": "2158bf06-1c79-4dd2-b286-41e6cde2fd78",
   "metadata": {},
   "outputs": [
    {
     "data": {
      "text/plain": [
       "211"
      ]
     },
     "execution_count": 16,
     "metadata": {},
     "output_type": "execute_result"
    }
   ],
   "source": [
    "S=open('data/day4.txt').read().strip()\n",
    "lines=S.split('\\n')\n",
    "len(lines)"
   ]
  },
  {
   "cell_type": "code",
   "execution_count": 18,
   "id": "95ec71e8-69ce-499e-947a-6595619fe3cf",
   "metadata": {},
   "outputs": [],
   "source": [
    "data=[]\n",
    "for line in lines:\n",
    "    data.append(\n",
    "    [[int(_) for _ in line.split(':')[1].split('|')[0].split()],\n",
    "        [int(_) for _ in line.split(':')[1].split('|')[1].split()]]\n",
    "    )\n"
   ]
  },
  {
   "cell_type": "code",
   "execution_count": 19,
   "id": "64908bb3-ad5a-4372-95cf-33e47e38ec7e",
   "metadata": {},
   "outputs": [
    {
     "name": "stdout",
     "output_type": "stream",
     "text": [
      "12263631\n"
     ]
    }
   ],
   "source": [
    "total=0\n",
    "copies=[1]*len(data)\n",
    "for i,(part1,part2) in enumerate(data):\n",
    "    overlap=list(set(part1)&set(part2))\n",
    "    if overlap:\n",
    "        L=len(overlap)\n",
    "        #print(\"Copying...\",end=\"\")\n",
    "        for j in range(i+1,i+L+1):\n",
    "            #print(j,\" \",end=\"\")\n",
    "            copies[j]+=copies[i]\n",
    "        #print()\n",
    "    #print(copies[i],overlap)\n",
    "\n",
    "#print(copies)\n",
    "print(sum(copies))\n"
   ]
  },
  {
   "cell_type": "code",
   "execution_count": null,
   "id": "0e5ebc5a-e442-4a68-b2ac-e217ad8e2e0b",
   "metadata": {},
   "outputs": [],
   "source": []
  }
 ],
 "metadata": {
  "kernelspec": {
   "display_name": "Python 3 (ipykernel)",
   "language": "python",
   "name": "python3"
  },
  "language_info": {
   "codemirror_mode": {
    "name": "ipython",
    "version": 3
   },
   "file_extension": ".py",
   "mimetype": "text/x-python",
   "name": "python",
   "nbconvert_exporter": "python",
   "pygments_lexer": "ipython3",
   "version": "3.11.5"
  }
 },
 "nbformat": 4,
 "nbformat_minor": 5
}
