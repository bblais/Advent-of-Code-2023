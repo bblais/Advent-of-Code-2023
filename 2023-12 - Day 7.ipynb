{
 "cells": [
  {
   "cell_type": "markdown",
   "id": "f28a3a7a-a1e2-448a-9ea8-1e15b0a17b16",
   "metadata": {},
   "source": [
    "https://adventofcode.com/2023/day/7"
   ]
  },
  {
   "cell_type": "code",
   "execution_count": 66,
   "id": "0bab4df0-08c3-4050-8829-7f8c211397ba",
   "metadata": {},
   "outputs": [
    {
     "data": {
      "text/plain": [
       "(('32T3K', 'T55J5', 'KK677', 'KTJJT', 'QQQJA'), [765, 684, 28, 220, 483])"
      ]
     },
     "execution_count": 66,
     "metadata": {},
     "output_type": "execute_result"
    }
   ],
   "source": [
    "S=\"\"\"\n",
    "32T3K 765\n",
    "T55J5 684\n",
    "KK677 28\n",
    "KTJJT 220\n",
    "QQQJA 483\n",
    "\"\"\"\n",
    "lines=S.strip().split(\"\\n\")\n",
    "hands,bids=zip(*[_.split() for _ in lines])\n",
    "bids=[int(_) for _ in bids]\n",
    "hands,bids"
   ]
  },
  {
   "cell_type": "code",
   "execution_count": 67,
   "id": "b9b4082a-271a-4d0e-b553-431029db852b",
   "metadata": {},
   "outputs": [
    {
     "data": {
      "text/plain": [
       "{'2': 2,\n",
       " '3': 3,\n",
       " '4': 4,\n",
       " '5': 5,\n",
       " '6': 6,\n",
       " '7': 7,\n",
       " '8': 8,\n",
       " '9': 9,\n",
       " 'T': 10,\n",
       " 'J': 11,\n",
       " 'Q': 12,\n",
       " 'K': 13,\n",
       " 'A': 14}"
      ]
     },
     "execution_count": 67,
     "metadata": {},
     "output_type": "execute_result"
    }
   ],
   "source": [
    "card_vals={}\n",
    "for i,card in enumerate('23456789TJQKA'):\n",
    "    card_vals[card]=i+2\n",
    "card_vals"
   ]
  },
  {
   "cell_type": "code",
   "execution_count": 68,
   "id": "cea1b04b-021e-4d97-a06a-29c4391989c8",
   "metadata": {},
   "outputs": [],
   "source": [
    "hand='QQQ3Q'\n",
    "s=set(hand)"
   ]
  },
  {
   "cell_type": "code",
   "execution_count": 69,
   "id": "d5ccef45-199f-42fc-ad64-b9f01a4da7a8",
   "metadata": {},
   "outputs": [
    {
     "data": {
      "text/plain": [
       "{'3', 'Q'}"
      ]
     },
     "execution_count": 69,
     "metadata": {},
     "output_type": "execute_result"
    }
   ],
   "source": [
    "s"
   ]
  },
  {
   "cell_type": "code",
   "execution_count": 70,
   "id": "0d1463c2-a086-4b1b-85c8-67e9f93bcf49",
   "metadata": {},
   "outputs": [
    {
     "data": {
      "text/plain": [
       "[4, 1]"
      ]
     },
     "execution_count": 70,
     "metadata": {},
     "output_type": "execute_result"
    }
   ],
   "source": [
    "sorted([hand.count(_) for _ in s],reverse=True)"
   ]
  },
  {
   "cell_type": "code",
   "execution_count": 71,
   "id": "e3a4d004-301f-44f8-8d0a-1f3fe21a12f6",
   "metadata": {},
   "outputs": [
    {
     "data": {
      "text/plain": [
       "2"
      ]
     },
     "execution_count": 71,
     "metadata": {},
     "output_type": "execute_result"
    }
   ],
   "source": [
    "len(s)"
   ]
  },
  {
   "cell_type": "code",
   "execution_count": 72,
   "id": "c44ba55f-e8ac-42e5-9d7d-b52d19d3d6dc",
   "metadata": {},
   "outputs": [],
   "source": [
    "hand_ranks={'five of a kind':7,\n",
    "            'four of a kind':6,\n",
    "            'full house':5,\n",
    "            'three of a kind':4,\n",
    "            'two pair':3,\n",
    "            'one pair':2,\n",
    "            'high card':1}"
   ]
  },
  {
   "cell_type": "code",
   "execution_count": 73,
   "id": "7d5e0444-2b1c-474a-a8a8-0aa029041504",
   "metadata": {},
   "outputs": [],
   "source": [
    "def get_type(hand):\n",
    "    assert len(hand)==5\n",
    "    \n",
    "    s=set(hand)\n",
    "    if len(s)==1:\n",
    "        return 'five of a kind'\n",
    "\n",
    "    counts=sorted([hand.count(_) for _ in s],reverse=True)\n",
    "\n",
    "    if counts[0]==4:\n",
    "        return 'four of a kind'\n",
    "\n",
    "    if counts[0]==3 and counts[1]==2:\n",
    "        return 'full house'\n",
    "\n",
    "    if counts[0]==3:\n",
    "        return 'three of a kind'\n",
    "\n",
    "    if counts[0]==2 and counts[1]==2:\n",
    "        return 'two pair'\n",
    "\n",
    "    if counts[0]==2:\n",
    "        return 'one pair'\n",
    "\n",
    "    return 'high card'\n"
   ]
  },
  {
   "cell_type": "code",
   "execution_count": 74,
   "id": "11be68c0-b8bb-4382-9d74-3b363ac3ef77",
   "metadata": {},
   "outputs": [],
   "source": [
    "def value(hand):\n",
    "    val=hand_ranks[get_type(hand)]\n",
    "\n",
    "    for i,c in enumerate(hand):\n",
    "        val+=card_vals[c]/14**(i+2)\n",
    "\n",
    "    return val"
   ]
  },
  {
   "cell_type": "code",
   "execution_count": 75,
   "id": "dc948ae7-2fc9-4588-badc-39d80b793b8a",
   "metadata": {},
   "outputs": [],
   "source": [
    "from numpy import arange"
   ]
  },
  {
   "cell_type": "code",
   "execution_count": 76,
   "id": "d2b165aa-3144-4ebf-975d-fd3bc2ffd4a2",
   "metadata": {},
   "outputs": [
    {
     "data": {
      "text/plain": [
       "array([0.00142857, 0.00214286, 0.00285714, 0.00357143, 0.00428571,\n",
       "       0.005     , 0.00571429, 0.00642857, 0.00714286, 0.00785714,\n",
       "       0.00857143, 0.00928571])"
      ]
     },
     "execution_count": 76,
     "metadata": {},
     "output_type": "execute_result"
    }
   ],
   "source": [
    "arange(2,14)/14/100"
   ]
  },
  {
   "cell_type": "code",
   "execution_count": 77,
   "id": "11b08885-0d3b-454d-9c73-4eb99415068e",
   "metadata": {},
   "outputs": [
    {
     "data": {
      "text/plain": [
       "(765, 220, 28, 684, 483)"
      ]
     },
     "execution_count": 77,
     "metadata": {},
     "output_type": "execute_result"
    }
   ],
   "source": [
    "vals2,bids2=zip(*sorted(zip([value(_) for _ in hands],bids)))\n",
    "bids2"
   ]
  },
  {
   "cell_type": "code",
   "execution_count": 78,
   "id": "4f19518f-9136-4a7f-a705-84919a6189be",
   "metadata": {},
   "outputs": [
    {
     "data": {
      "text/plain": [
       "6440"
      ]
     },
     "execution_count": 78,
     "metadata": {},
     "output_type": "execute_result"
    }
   ],
   "source": [
    "(bids2*arange(1,len(bids2)+1)).sum()"
   ]
  },
  {
   "cell_type": "code",
   "execution_count": 79,
   "id": "7ee35a9b-42bd-4e5e-9c05-e4d653068683",
   "metadata": {},
   "outputs": [
    {
     "data": {
      "text/plain": [
       "1000"
      ]
     },
     "execution_count": 79,
     "metadata": {},
     "output_type": "execute_result"
    }
   ],
   "source": [
    "S=open('data/day7.txt').read().strip()\n",
    "lines=S.split('\\n')\n",
    "len(lines)"
   ]
  },
  {
   "cell_type": "code",
   "execution_count": 80,
   "id": "4384532e-5101-41b0-bee2-72f50409cd96",
   "metadata": {},
   "outputs": [],
   "source": [
    "lines=S.strip().split(\"\\n\")\n",
    "hands,bids=zip(*[_.split() for _ in lines])\n",
    "bids=[int(_) for _ in bids]"
   ]
  },
  {
   "cell_type": "code",
   "execution_count": 81,
   "id": "823e3030-0afb-40f8-9705-b593fc49eb1a",
   "metadata": {},
   "outputs": [
    {
     "data": {
      "text/plain": [
       "246409899"
      ]
     },
     "execution_count": 81,
     "metadata": {},
     "output_type": "execute_result"
    }
   ],
   "source": [
    "vals2,bids2=zip(*sorted(zip([value(_) for _ in hands],bids)))\n",
    "(bids2*arange(1,len(bids2)+1)).sum()"
   ]
  },
  {
   "cell_type": "markdown",
   "id": "9854fb93-b0f6-45db-aad2-a6cb0fdc6c0d",
   "metadata": {},
   "source": [
    "## Part 2"
   ]
  },
  {
   "cell_type": "code",
   "execution_count": 97,
   "id": "4af16eac-c72e-4fd6-a884-f38cce3a68f4",
   "metadata": {},
   "outputs": [
    {
     "data": {
      "text/plain": [
       "{'J': 2,\n",
       " '2': 3,\n",
       " '3': 4,\n",
       " '4': 5,\n",
       " '5': 6,\n",
       " '6': 7,\n",
       " '7': 8,\n",
       " '8': 9,\n",
       " '9': 10,\n",
       " 'T': 11,\n",
       " 'Q': 12,\n",
       " 'K': 13,\n",
       " 'A': 14}"
      ]
     },
     "execution_count": 97,
     "metadata": {},
     "output_type": "execute_result"
    }
   ],
   "source": [
    "card_vals={}\n",
    "for i,card in enumerate('J23456789TQKA'):\n",
    "    card_vals[card]=i+2\n",
    "card_vals"
   ]
  },
  {
   "cell_type": "code",
   "execution_count": 128,
   "id": "19b6b892-8a9f-4732-8f88-c02833f9fc9d",
   "metadata": {},
   "outputs": [],
   "source": [
    "def get_type(hand):\n",
    "    assert len(hand)==5\n",
    "\n",
    "    s=set(hand)\n",
    "\n",
    "    \n",
    "    if len(s)==1:\n",
    "        return 'five of a kind'  # unchanged\n",
    "\n",
    "    J=hand.count('J')\n",
    "    hand2=hand.replace('J','')\n",
    "    \n",
    "    s=set(hand2)\n",
    "    \n",
    "    counts=sorted([hand.count(_) for _ in s],reverse=True)\n",
    "\n",
    "    try:\n",
    "        counts[0]+=J\n",
    "    except IndexError:\n",
    "        print(hand)\n",
    "        raise\n",
    "\n",
    "    assert sum(counts)==5\n",
    "    \n",
    "    if counts[0]==4:\n",
    "        return 'four of a kind'\n",
    "\n",
    "    if counts[0]==3 and counts[1]==2:\n",
    "        return 'full house'\n",
    "\n",
    "    if counts[0]==3:\n",
    "        return 'three of a kind'\n",
    "\n",
    "    if counts[0]==2 and counts[1]==2:\n",
    "        return 'two pair'\n",
    "\n",
    "    if counts[0]==2:\n",
    "        return 'one pair'\n",
    "\n",
    "    return 'high card'\n",
    "\n",
    "def value(hand):\n",
    "\n",
    "    card_vals={}\n",
    "    for i,card in enumerate('J23456789TQKA'):\n",
    "        card_vals[card]=i+2\n",
    "    \n",
    "    val=hand_ranks[get_type(hand)]\n",
    "\n",
    "    for i,c in enumerate(hand):\n",
    "        val+=card_vals[c]/14**(i+2)\n",
    "\n",
    "    return val"
   ]
  },
  {
   "cell_type": "code",
   "execution_count": 129,
   "id": "f522f992-3386-48de-b25d-c278392bf2b1",
   "metadata": {},
   "outputs": [
    {
     "data": {
      "text/plain": [
       "(('32T3K', 'T55J5', 'KK677', 'KTJJT', 'QQQJA'), [765, 684, 28, 220, 483])"
      ]
     },
     "execution_count": 129,
     "metadata": {},
     "output_type": "execute_result"
    }
   ],
   "source": [
    "S=\"\"\"\n",
    "32T3K 765\n",
    "T55J5 684\n",
    "KK677 28\n",
    "KTJJT 220\n",
    "QQQJA 483\n",
    "\"\"\"\n",
    "lines=S.strip().split(\"\\n\")\n",
    "hands,bids=zip(*[_.split() for _ in lines])\n",
    "bids=[int(_) for _ in bids]\n",
    "hands,bids"
   ]
  },
  {
   "cell_type": "code",
   "execution_count": 130,
   "id": "33f2c96c-39e9-4cd9-84d7-45749eb6e457",
   "metadata": {},
   "outputs": [
    {
     "data": {
      "text/plain": [
       "5905"
      ]
     },
     "execution_count": 130,
     "metadata": {},
     "output_type": "execute_result"
    }
   ],
   "source": [
    "vals2,bids2=zip(*sorted(zip([value(_) for _ in hands],bids)))\n",
    "(bids2*arange(1,len(bids2)+1)).sum()"
   ]
  },
  {
   "cell_type": "code",
   "execution_count": 131,
   "id": "2fa4329c-6bfe-4303-8297-d99450731ad7",
   "metadata": {},
   "outputs": [
    {
     "data": {
      "text/plain": [
       "1000"
      ]
     },
     "execution_count": 131,
     "metadata": {},
     "output_type": "execute_result"
    }
   ],
   "source": [
    "S=open('data/day7.txt').read().strip()\n",
    "lines=S.split('\\n')\n",
    "len(lines)"
   ]
  },
  {
   "cell_type": "code",
   "execution_count": 132,
   "id": "1be21e9f-203e-4d7c-ad25-1021b0327308",
   "metadata": {},
   "outputs": [],
   "source": [
    "lines=S.strip().split(\"\\n\")\n",
    "hands,bids=zip(*[_.split() for _ in lines])\n",
    "bids=[int(_) for _ in bids]"
   ]
  },
  {
   "cell_type": "code",
   "execution_count": 133,
   "id": "338ff62a-b86d-4614-a3da-c6503fbcedc0",
   "metadata": {},
   "outputs": [
    {
     "data": {
      "text/plain": [
       "245401982"
      ]
     },
     "execution_count": 133,
     "metadata": {},
     "output_type": "execute_result"
    }
   ],
   "source": [
    "vals2,bids2=zip(*sorted(zip([value(_) for _ in hands],bids)))\n",
    "(bids2*arange(1,len(bids2)+1)).sum()"
   ]
  },
  {
   "cell_type": "code",
   "execution_count": null,
   "id": "6b7d89d1-0d5d-4cab-839d-98994f3840da",
   "metadata": {},
   "outputs": [],
   "source": []
  }
 ],
 "metadata": {
  "kernelspec": {
   "display_name": "Python 3 (ipykernel)",
   "language": "python",
   "name": "python3"
  },
  "language_info": {
   "codemirror_mode": {
    "name": "ipython",
    "version": 3
   },
   "file_extension": ".py",
   "mimetype": "text/x-python",
   "name": "python",
   "nbconvert_exporter": "python",
   "pygments_lexer": "ipython3",
   "version": "3.11.5"
  }
 },
 "nbformat": 4,
 "nbformat_minor": 5
}
