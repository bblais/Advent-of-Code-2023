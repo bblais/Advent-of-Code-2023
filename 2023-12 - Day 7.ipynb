{
 "cells": [
  {
   "cell_type": "markdown",
   "id": "f28a3a7a-a1e2-448a-9ea8-1e15b0a17b16",
   "metadata": {},
   "source": [
    "https://adventofcode.com/2023/day/7"
   ]
  },
  {
   "cell_type": "code",
   "execution_count": 66,
   "id": "0bab4df0-08c3-4050-8829-7f8c211397ba",
   "metadata": {},
   "outputs": [
    {
     "data": {
      "text/plain": [
       "(('32T3K', 'T55J5', 'KK677', 'KTJJT', 'QQQJA'), [765, 684, 28, 220, 483])"
      ]
     },
     "execution_count": 66,
     "metadata": {},
     "output_type": "execute_result"
    }
   ],
   "source": [
    "S=\"\"\"\n",
    "32T3K 765\n",
    "T55J5 684\n",
    "KK677 28\n",
    "KTJJT 220\n",
    "QQQJA 483\n",
    "\"\"\"\n",
    "lines=S.strip().split(\"\\n\")\n",
    "hands,bids=zip(*[_.split() for _ in lines])\n",
    "bids=[int(_) for _ in bids]\n",
    "hands,bids"
   ]
  },
  {
   "cell_type": "code",
   "execution_count": 67,
   "id": "b9b4082a-271a-4d0e-b553-431029db852b",
   "metadata": {},
   "outputs": [
    {
     "data": {
      "text/plain": [
       "{'2': 2,\n",
       " '3': 3,\n",
       " '4': 4,\n",
       " '5': 5,\n",
       " '6': 6,\n",
       " '7': 7,\n",
       " '8': 8,\n",
       " '9': 9,\n",
       " 'T': 10,\n",
       " 'J': 11,\n",
       " 'Q': 12,\n",
       " 'K': 13,\n",
       " 'A': 14}"
      ]
     },
     "execution_count": 67,
     "metadata": {},
     "output_type": "execute_result"
    }
   ],
   "source": [
    "card_vals={}\n",
    "for i,card in enumerate('23456789TJQKA'):\n",
    "    card_vals[card]=i+2\n",
    "card_vals"
   ]
  },
  {
   "cell_type": "code",
   "execution_count": 68,
   "id": "cea1b04b-021e-4d97-a06a-29c4391989c8",
   "metadata": {},
   "outputs": [],
   "source": [
    "hand='QQQ3Q'\n",
    "s=set(hand)"
   ]
  },
  {
   "cell_type": "code",
   "execution_count": 69,
   "id": "d5ccef45-199f-42fc-ad64-b9f01a4da7a8",
   "metadata": {},
   "outputs": [
    {
     "data": {
      "text/plain": [
       "{'3', 'Q'}"
      ]
     },
     "execution_count": 69,
     "metadata": {},
     "output_type": "execute_result"
    }
   ],
   "source": [
    "s"
   ]
  },
  {
   "cell_type": "code",
   "execution_count": 70,
   "id": "0d1463c2-a086-4b1b-85c8-67e9f93bcf49",
   "metadata": {},
   "outputs": [
    {
     "data": {
      "text/plain": [
       "[4, 1]"
      ]
     },
     "execution_count": 70,
     "metadata": {},
     "output_type": "execute_result"
    }
   ],
   "source": [
    "sorted([hand.count(_) for _ in s],reverse=True)"
   ]
  },
  {
   "cell_type": "code",
   "execution_count": 71,
   "id": "e3a4d004-301f-44f8-8d0a-1f3fe21a12f6",
   "metadata": {},
   "outputs": [
    {
     "data": {
      "text/plain": [
       "2"
      ]
     },
     "execution_count": 71,
     "metadata": {},
     "output_type": "execute_result"
    }
   ],
   "source": [
    "len(s)"
   ]
  },
  {
   "cell_type": "code",
   "execution_count": 72,
   "id": "c44ba55f-e8ac-42e5-9d7d-b52d19d3d6dc",
   "metadata": {},
   "outputs": [],
   "source": [
    "hand_ranks={'five of a kind':7,\n",
    "            'four of a kind':6,\n",
    "            'full house':5,\n",
    "            'three of a kind':4,\n",
    "            'two pair':3,\n",
    "            'one pair':2,\n",
    "            'high card':1}"
   ]
  },
  {
   "cell_type": "code",
   "execution_count": 137,
   "id": "7d5e0444-2b1c-474a-a8a8-0aa029041504",
   "metadata": {},
   "outputs": [],
   "source": [
    "def get_type(hand):\n",
    "    assert len(hand)==5\n",
    "    \n",
    "    s=set(hand)\n",
    "    if len(s)==1:\n",
    "        return 'five of a kind'\n",
    "\n",
    "    counts=sorted([hand.count(_) for _ in s],reverse=True)\n",
    "\n",
    "    if counts[0]==4:\n",
    "        return 'four of a kind'\n",
    "\n",
    "    if counts[0]==3 and counts[1]==2:\n",
    "        return 'full house'\n",
    "\n",
    "    if counts[0]==3:\n",
    "        return 'three of a kind'\n",
    "\n",
    "    if counts[0]==2 and counts[1]==2:\n",
    "        return 'two pair'\n",
    "\n",
    "    if counts[0]==2:\n",
    "        return 'one pair'\n",
    "\n",
    "    return 'high card'\n"
   ]
  },
  {
   "cell_type": "code",
   "execution_count": 138,
   "id": "11be68c0-b8bb-4382-9d74-3b363ac3ef77",
   "metadata": {},
   "outputs": [],
   "source": [
    "def value(hand):\n",
    "    val=hand_ranks[get_type(hand)]\n",
    "\n",
    "    for i,c in enumerate(hand):\n",
    "        val+=card_vals[c]/14**(i+2)\n",
    "\n",
    "    return val"
   ]
  },
  {
   "cell_type": "code",
   "execution_count": 75,
   "id": "dc948ae7-2fc9-4588-badc-39d80b793b8a",
   "metadata": {},
   "outputs": [],
   "source": [
    "from numpy import arange"
   ]
  },
  {
   "cell_type": "code",
   "execution_count": 76,
   "id": "d2b165aa-3144-4ebf-975d-fd3bc2ffd4a2",
   "metadata": {},
   "outputs": [
    {
     "data": {
      "text/plain": [
       "array([0.00142857, 0.00214286, 0.00285714, 0.00357143, 0.00428571,\n",
       "       0.005     , 0.00571429, 0.00642857, 0.00714286, 0.00785714,\n",
       "       0.00857143, 0.00928571])"
      ]
     },
     "execution_count": 76,
     "metadata": {},
     "output_type": "execute_result"
    }
   ],
   "source": [
    "arange(2,14)/14/100"
   ]
  },
  {
   "cell_type": "code",
   "execution_count": 77,
   "id": "11b08885-0d3b-454d-9c73-4eb99415068e",
   "metadata": {},
   "outputs": [
    {
     "data": {
      "text/plain": [
       "(765, 220, 28, 684, 483)"
      ]
     },
     "execution_count": 77,
     "metadata": {},
     "output_type": "execute_result"
    }
   ],
   "source": [
    "vals2,bids2=zip(*sorted(zip([value(_) for _ in hands],bids)))\n",
    "bids2"
   ]
  },
  {
   "cell_type": "code",
   "execution_count": 78,
   "id": "4f19518f-9136-4a7f-a705-84919a6189be",
   "metadata": {},
   "outputs": [
    {
     "data": {
      "text/plain": [
       "6440"
      ]
     },
     "execution_count": 78,
     "metadata": {},
     "output_type": "execute_result"
    }
   ],
   "source": [
    "(bids2*arange(1,len(bids2)+1)).sum()"
   ]
  },
  {
   "cell_type": "code",
   "execution_count": 79,
   "id": "7ee35a9b-42bd-4e5e-9c05-e4d653068683",
   "metadata": {},
   "outputs": [
    {
     "data": {
      "text/plain": [
       "1000"
      ]
     },
     "execution_count": 79,
     "metadata": {},
     "output_type": "execute_result"
    }
   ],
   "source": [
    "S=open('data/day7.txt').read().strip()\n",
    "lines=S.split('\\n')\n",
    "len(lines)"
   ]
  },
  {
   "cell_type": "code",
   "execution_count": 80,
   "id": "4384532e-5101-41b0-bee2-72f50409cd96",
   "metadata": {},
   "outputs": [],
   "source": [
    "lines=S.strip().split(\"\\n\")\n",
    "hands,bids=zip(*[_.split() for _ in lines])\n",
    "bids=[int(_) for _ in bids]"
   ]
  },
  {
   "cell_type": "code",
   "execution_count": 81,
   "id": "823e3030-0afb-40f8-9705-b593fc49eb1a",
   "metadata": {},
   "outputs": [
    {
     "data": {
      "text/plain": [
       "246409899"
      ]
     },
     "execution_count": 81,
     "metadata": {},
     "output_type": "execute_result"
    }
   ],
   "source": [
    "vals2,bids2=zip(*sorted(zip([value(_) for _ in hands],bids)))\n",
    "(bids2*arange(1,len(bids2)+1)).sum()"
   ]
  },
  {
   "cell_type": "markdown",
   "id": "9854fb93-b0f6-45db-aad2-a6cb0fdc6c0d",
   "metadata": {},
   "source": [
    "## Part 2"
   ]
  },
  {
   "cell_type": "code",
   "execution_count": 97,
   "id": "4af16eac-c72e-4fd6-a884-f38cce3a68f4",
   "metadata": {},
   "outputs": [
    {
     "data": {
      "text/plain": [
       "{'J': 2,\n",
       " '2': 3,\n",
       " '3': 4,\n",
       " '4': 5,\n",
       " '5': 6,\n",
       " '6': 7,\n",
       " '7': 8,\n",
       " '8': 9,\n",
       " '9': 10,\n",
       " 'T': 11,\n",
       " 'Q': 12,\n",
       " 'K': 13,\n",
       " 'A': 14}"
      ]
     },
     "execution_count": 97,
     "metadata": {},
     "output_type": "execute_result"
    }
   ],
   "source": [
    "card_vals={}\n",
    "for i,card in enumerate('J23456789TQKA'):\n",
    "    card_vals[card]=i+2\n",
    "card_vals"
   ]
  },
  {
   "cell_type": "code",
   "execution_count": 157,
   "id": "19b6b892-8a9f-4732-8f88-c02833f9fc9d",
   "metadata": {},
   "outputs": [],
   "source": [
    "def get_typeJ(hand):\n",
    "    assert len(hand)==5\n",
    "\n",
    "    s=set(hand)\n",
    "\n",
    "    \n",
    "    if len(s)==1:\n",
    "        return 'five of a kind'  # unchanged\n",
    "\n",
    "    J=hand.count('J')\n",
    "    hand2=hand.replace('J','')\n",
    "    \n",
    "    s=set(hand2)\n",
    "    \n",
    "    counts=sorted([hand.count(_) for _ in s],reverse=True)\n",
    "\n",
    "    try:\n",
    "        counts[0]+=J\n",
    "    except IndexError:\n",
    "        print(hand)\n",
    "        raise\n",
    "\n",
    "    assert sum(counts)==5\n",
    "\n",
    "    if counts[0]==5:\n",
    "        return 'five of a kind'\n",
    "    \n",
    "    if counts[0]==4:\n",
    "        return 'four of a kind'\n",
    "\n",
    "    if counts[0]==3 and counts[1]==2:\n",
    "        return 'full house'\n",
    "\n",
    "    if counts[0]==3:\n",
    "        return 'three of a kind'\n",
    "\n",
    "    if counts[0]==2 and counts[1]==2:\n",
    "        return 'two pair'\n",
    "\n",
    "    if counts[0]==2:\n",
    "        return 'one pair'\n",
    "\n",
    "    return 'high card'\n",
    "\n",
    "def valueJ(hand):\n",
    "\n",
    "    card_valsJ={}\n",
    "    for i,card in enumerate('J23456789TQKA'):\n",
    "        card_valsJ[card]=i+2\n",
    "    \n",
    "    val=hand_ranks[get_typeJ(hand)]\n",
    "\n",
    "    for i,c in enumerate(hand):\n",
    "        val+=card_valsJ[c]/14**(i+2)\n",
    "\n",
    "    return val"
   ]
  },
  {
   "cell_type": "code",
   "execution_count": 158,
   "id": "f522f992-3386-48de-b25d-c278392bf2b1",
   "metadata": {},
   "outputs": [
    {
     "data": {
      "text/plain": [
       "(('32T3K', 'T55J5', 'KK677', 'KTJJT', 'QQQJA'), [765, 684, 28, 220, 483])"
      ]
     },
     "execution_count": 158,
     "metadata": {},
     "output_type": "execute_result"
    }
   ],
   "source": [
    "S=\"\"\"\n",
    "32T3K 765\n",
    "T55J5 684\n",
    "KK677 28\n",
    "KTJJT 220\n",
    "QQQJA 483\n",
    "\"\"\"\n",
    "lines=S.strip().split(\"\\n\")\n",
    "hands,bids=zip(*[_.split() for _ in lines])\n",
    "bids=[int(_) for _ in bids]\n",
    "hands,bids"
   ]
  },
  {
   "cell_type": "code",
   "execution_count": 159,
   "id": "33f2c96c-39e9-4cd9-84d7-45749eb6e457",
   "metadata": {},
   "outputs": [
    {
     "data": {
      "text/plain": [
       "5905"
      ]
     },
     "execution_count": 159,
     "metadata": {},
     "output_type": "execute_result"
    }
   ],
   "source": [
    "vals2,bids2=zip(*sorted(zip([valueJ(_) for _ in hands],bids)))\n",
    "(bids2*arange(1,len(bids2)+1)).sum()"
   ]
  },
  {
   "cell_type": "code",
   "execution_count": 160,
   "id": "2fa4329c-6bfe-4303-8297-d99450731ad7",
   "metadata": {},
   "outputs": [
    {
     "data": {
      "text/plain": [
       "1000"
      ]
     },
     "execution_count": 160,
     "metadata": {},
     "output_type": "execute_result"
    }
   ],
   "source": [
    "S=open('data/day7.txt').read().strip()\n",
    "lines=S.split('\\n')\n",
    "len(lines)"
   ]
  },
  {
   "cell_type": "code",
   "execution_count": 161,
   "id": "1be21e9f-203e-4d7c-ad25-1021b0327308",
   "metadata": {},
   "outputs": [],
   "source": [
    "lines=S.strip().split(\"\\n\")\n",
    "hands,bids=zip(*[_.split() for _ in lines])\n",
    "bids=[int(_) for _ in bids]"
   ]
  },
  {
   "cell_type": "code",
   "execution_count": 162,
   "id": "338ff62a-b86d-4614-a3da-c6503fbcedc0",
   "metadata": {},
   "outputs": [
    {
     "data": {
      "text/plain": [
       "244848487"
      ]
     },
     "execution_count": 162,
     "metadata": {},
     "output_type": "execute_result"
    }
   ],
   "source": [
    "vals2,bids2=zip(*sorted(zip([valueJ(_) for _ in hands],bids)))\n",
    "(bids2*arange(1,len(bids2)+1)).sum()"
   ]
  },
  {
   "cell_type": "code",
   "execution_count": 163,
   "id": "6b7d89d1-0d5d-4cab-839d-98994f3840da",
   "metadata": {},
   "outputs": [
    {
     "data": {
      "text/plain": [
       "301"
      ]
     },
     "execution_count": 163,
     "metadata": {},
     "output_type": "execute_result"
    }
   ],
   "source": [
    "Jhands=[_ for _ in hands if 'J' in _]\n",
    "len(Jhands)"
   ]
  },
  {
   "cell_type": "code",
   "execution_count": 156,
   "id": "754afe9e-68b9-46fa-941b-45baf3d21ff4",
   "metadata": {},
   "outputs": [
    {
     "data": {
      "text/plain": [
       "['8J833',\n",
       " '6AJT8',\n",
       " '5A4J8',\n",
       " '37J73',\n",
       " '2J368',\n",
       " '2AJ8T',\n",
       " '23TJ9',\n",
       " '77J35',\n",
       " 'JJA87',\n",
       " 'JAKAA']"
      ]
     },
     "execution_count": 156,
     "metadata": {},
     "output_type": "execute_result"
    }
   ],
   "source": [
    "Jhands[:10]"
   ]
  },
  {
   "cell_type": "code",
   "execution_count": 148,
   "id": "d2162cfe-5774-45b6-993b-7ffb5cf1013b",
   "metadata": {},
   "outputs": [
    {
     "name": "stdout",
     "output_type": "stream",
     "text": [
      "8J833 = full house\n",
      "6AJT8 = one pair\n",
      "5A4J8 = one pair\n",
      "37J73 = full house\n",
      "2J368 = one pair\n",
      "2AJ8T = one pair\n",
      "23TJ9 = one pair\n",
      "77J35 = three of a kind\n",
      "JJA87 = three of a kind\n",
      "JAKAA = four of a kind\n",
      "4J463 = three of a kind\n",
      "QQ4JA = three of a kind\n",
      "J2TK7 = one pair\n",
      "JJJ28 = four of a kind\n",
      "JAJAA = high card\n",
      "QJ8T5 = one pair\n",
      "JTT99 = full house\n",
      "79A9J = three of a kind\n",
      "5J666 = four of a kind\n",
      "6J6Q6 = four of a kind\n",
      "JJJJJ = five of a kind\n",
      "JJQTQ = four of a kind\n",
      "2JJJK = four of a kind\n",
      "3J48J = three of a kind\n",
      "Q2K6J = one pair\n",
      "K67JT = one pair\n",
      "A7J66 = three of a kind\n",
      "994AJ = three of a kind\n",
      "9JK46 = one pair\n",
      "A5J65 = three of a kind\n",
      "JQQT7 = three of a kind\n",
      "222J4 = four of a kind\n",
      "J6KA3 = one pair\n",
      "8888J = high card\n",
      "JJJ2J = high card\n",
      "Q5J7K = one pair\n",
      "22J52 = four of a kind\n",
      "TQAKJ = one pair\n",
      "JK546 = one pair\n",
      "J9J99 = high card\n",
      "J3663 = full house\n",
      "J9999 = high card\n",
      "K7JAA = three of a kind\n",
      "J3729 = one pair\n",
      "8988J = four of a kind\n",
      "T33J3 = four of a kind\n",
      "J9922 = full house\n",
      "KJTKK = four of a kind\n",
      "TJAJT = four of a kind\n",
      "J3227 = three of a kind\n",
      "JKQQ8 = three of a kind\n",
      "8J558 = full house\n",
      "QQ55J = full house\n",
      "483JK = one pair\n",
      "2TJA6 = one pair\n",
      "373JQ = three of a kind\n",
      "TT24J = three of a kind\n",
      "95J8J = three of a kind\n",
      "J5556 = four of a kind\n",
      "J4464 = four of a kind\n",
      "8T88J = four of a kind\n",
      "44JJ4 = high card\n",
      "J66TT = full house\n",
      "3666J = four of a kind\n",
      "7862J = one pair\n",
      "6J97A = one pair\n",
      "7J837 = three of a kind\n",
      "49J45 = three of a kind\n",
      "849J7 = one pair\n",
      "933J3 = four of a kind\n",
      "3KJ2K = three of a kind\n",
      "66J6J = high card\n",
      "QQ8JQ = four of a kind\n",
      "JTAT5 = three of a kind\n",
      "AT5J9 = one pair\n",
      "899J3 = three of a kind\n",
      "JK3T5 = one pair\n",
      "KJ755 = three of a kind\n",
      "Q966J = three of a kind\n",
      "4JA6K = one pair\n",
      "J4494 = four of a kind\n",
      "J3444 = four of a kind\n",
      "JQJQJ = high card\n",
      "5J876 = one pair\n",
      "KKJ89 = three of a kind\n",
      "3TQ4J = one pair\n",
      "7J5Q9 = one pair\n",
      "377J6 = three of a kind\n",
      "3TAJJ = three of a kind\n",
      "KTJ4Q = one pair\n",
      "22J38 = three of a kind\n",
      "Q33JT = three of a kind\n",
      "J9J79 = four of a kind\n",
      "7J755 = full house\n",
      "9344J = three of a kind\n",
      "J2J88 = four of a kind\n",
      "J8T8T = full house\n",
      "3A8J9 = one pair\n",
      "A44AJ = full house\n",
      "J5754 = three of a kind\n",
      "9JT3T = three of a kind\n",
      "7AJAA = four of a kind\n",
      "KAJ8K = three of a kind\n",
      "4AJA2 = three of a kind\n",
      "8Q8TJ = three of a kind\n",
      "JJ77J = high card\n",
      "6JQ45 = one pair\n",
      "99JJ2 = four of a kind\n",
      "8J865 = three of a kind\n",
      "K7K7J = full house\n",
      "AJQ98 = one pair\n",
      "65A2J = one pair\n",
      "A833J = three of a kind\n",
      "J77J7 = high card\n",
      "3333J = high card\n",
      "JAQ4T = one pair\n",
      "888J3 = four of a kind\n",
      "38T2J = one pair\n",
      "J9QQ7 = three of a kind\n",
      "AJ88A = full house\n",
      "225JT = three of a kind\n",
      "4AJJA = four of a kind\n",
      "A3J8Q = one pair\n",
      "J4K59 = one pair\n",
      "J62K5 = one pair\n",
      "3KJAQ = one pair\n",
      "AJAAA = high card\n",
      "JAAKK = full house\n",
      "2QJ82 = three of a kind\n",
      "J4J4J = high card\n",
      "6J576 = three of a kind\n",
      "AJA33 = full house\n",
      "7JJ85 = three of a kind\n",
      "J262Q = three of a kind\n",
      "J7882 = three of a kind\n",
      "3QJ28 = one pair\n",
      "6466J = four of a kind\n",
      "TTJJT = high card\n",
      "87J7A = three of a kind\n",
      "222QJ = four of a kind\n",
      "4J444 = high card\n",
      "T8JT9 = three of a kind\n",
      "9J929 = four of a kind\n",
      "TJ63K = one pair\n",
      "28JJ4 = three of a kind\n",
      "7A33J = three of a kind\n",
      "TJK44 = three of a kind\n",
      "2A8J5 = one pair\n",
      "6AJ66 = four of a kind\n",
      "JK99K = full house\n",
      "TJTA2 = three of a kind\n",
      "6J527 = one pair\n",
      "J75QQ = three of a kind\n",
      "82QJ9 = one pair\n",
      "K6JKK = four of a kind\n",
      "88J28 = four of a kind\n",
      "JT4T4 = full house\n",
      "J8484 = full house\n",
      "JAJ9A = four of a kind\n",
      "TKJTK = full house\n",
      "4T8TJ = three of a kind\n",
      "TJAAT = full house\n",
      "TK9JK = three of a kind\n",
      "J3J33 = high card\n",
      "3553J = full house\n",
      "4J277 = three of a kind\n",
      "9QJ85 = one pair\n",
      "J8734 = one pair\n",
      "4J5AA = three of a kind\n",
      "25J5J = four of a kind\n",
      "J47AJ = three of a kind\n",
      "622JT = three of a kind\n",
      "A9J28 = one pair\n",
      "8KT8J = three of a kind\n",
      "QQQJT = four of a kind\n",
      "QK5J9 = one pair\n",
      "6J666 = high card\n",
      "75TJ8 = one pair\n",
      "K8J28 = three of a kind\n",
      "55JKK = full house\n",
      "7623J = one pair\n",
      "27T2J = three of a kind\n",
      "TTTJT = high card\n",
      "555J5 = high card\n",
      "2J666 = four of a kind\n",
      "J6825 = one pair\n",
      "J6QQQ = four of a kind\n",
      "KKQKJ = four of a kind\n",
      "J55JK = four of a kind\n",
      "666KJ = four of a kind\n",
      "Q3T6J = one pair\n",
      "2J2J2 = high card\n",
      "AJ34Q = one pair\n",
      "766J6 = four of a kind\n",
      "3323J = four of a kind\n",
      "JJJ8J = high card\n",
      "5JJ5A = four of a kind\n",
      "K3KJ3 = full house\n",
      "52J52 = full house\n",
      "2J48K = one pair\n",
      "J8K26 = one pair\n",
      "J3JJ3 = high card\n",
      "892JK = one pair\n",
      "75JT3 = one pair\n",
      "K2JAJ = three of a kind\n",
      "JKKKJ = high card\n",
      "686J8 = full house\n",
      "JJT56 = three of a kind\n",
      "88J8J = high card\n",
      "KJK7T = three of a kind\n",
      "K3KJK = four of a kind\n",
      "6J583 = one pair\n",
      "K73JA = one pair\n",
      "JK222 = four of a kind\n",
      "A7J68 = one pair\n",
      "9JQQ9 = full house\n",
      "39J34 = three of a kind\n",
      "2J322 = four of a kind\n",
      "KKQJ9 = three of a kind\n",
      "4J453 = three of a kind\n",
      "39KJJ = three of a kind\n",
      "277J2 = full house\n",
      "J9AAA = four of a kind\n",
      "74JA5 = one pair\n",
      "977J9 = full house\n",
      "Q6TJ9 = one pair\n",
      "AJ577 = three of a kind\n",
      "8J6KK = three of a kind\n",
      "QAAJA = four of a kind\n",
      "JTT7T = four of a kind\n",
      "55A5J = four of a kind\n",
      "336JA = three of a kind\n",
      "2226J = four of a kind\n",
      "7J3Q7 = three of a kind\n",
      "J3K77 = three of a kind\n",
      "2JQ94 = one pair\n",
      "7KJ8K = three of a kind\n",
      "QJKQ4 = three of a kind\n",
      "99J74 = three of a kind\n",
      "68J26 = three of a kind\n",
      "7JQT5 = one pair\n",
      "97J99 = four of a kind\n",
      "9ATTJ = three of a kind\n",
      "A52J3 = one pair\n",
      "JJ553 = four of a kind\n",
      "777J7 = high card\n",
      "222J2 = high card\n",
      "J9JJ9 = high card\n",
      "TJ77J = four of a kind\n",
      "25J79 = one pair\n",
      "7JTJ4 = three of a kind\n",
      "TJA83 = one pair\n",
      "696J9 = full house\n",
      "222J8 = four of a kind\n",
      "JA93A = three of a kind\n",
      "3433J = four of a kind\n",
      "K9J99 = four of a kind\n",
      "9J676 = three of a kind\n",
      "7Q9J4 = one pair\n",
      "7TJ62 = one pair\n",
      "74J77 = four of a kind\n",
      "J8529 = one pair\n",
      "JJQQQ = high card\n",
      "5T2AJ = one pair\n",
      "8A27J = one pair\n",
      "33JJK = four of a kind\n",
      "AJ957 = one pair\n",
      "T593J = one pair\n",
      "6J777 = four of a kind\n",
      "QKJ33 = three of a kind\n",
      "88J99 = full house\n",
      "Q9J53 = one pair\n",
      "7788J = full house\n",
      "7J7JQ = four of a kind\n",
      "4K3AJ = one pair\n",
      "AATAJ = four of a kind\n",
      "644QJ = three of a kind\n",
      "955J8 = three of a kind\n",
      "88JJJ = high card\n",
      "J935K = one pair\n",
      "J334K = three of a kind\n",
      "2JK44 = three of a kind\n",
      "QJQQQ = high card\n",
      "AA9J6 = three of a kind\n",
      "J347T = one pair\n",
      "3A6J6 = three of a kind\n",
      "6J326 = three of a kind\n",
      "J493J = three of a kind\n",
      "J32J6 = three of a kind\n",
      "63J4K = one pair\n",
      "J6KJT = three of a kind\n",
      "JAJ6T = three of a kind\n",
      "QJ899 = three of a kind\n",
      "5T2JT = three of a kind\n",
      "999JT = four of a kind\n",
      "J9A99 = four of a kind\n",
      "337JJ = four of a kind\n",
      "2KKQJ = three of a kind\n",
      "47AJ6 = one pair\n",
      "JK952 = one pair\n",
      "KJKKK = high card\n"
     ]
    }
   ],
   "source": [
    "for hand in Jhands:\n",
    "    print(hand,\"=\",get_typeJ(hand))"
   ]
  },
  {
   "cell_type": "code",
   "execution_count": null,
   "id": "34a645f8-e0db-479c-aca0-01b2515b5f0d",
   "metadata": {},
   "outputs": [],
   "source": []
  }
 ],
 "metadata": {
  "kernelspec": {
   "display_name": "Python 3 (ipykernel)",
   "language": "python",
   "name": "python3"
  },
  "language_info": {
   "codemirror_mode": {
    "name": "ipython",
    "version": 3
   },
   "file_extension": ".py",
   "mimetype": "text/x-python",
   "name": "python",
   "nbconvert_exporter": "python",
   "pygments_lexer": "ipython3",
   "version": "3.11.5"
  }
 },
 "nbformat": 4,
 "nbformat_minor": 5
}
