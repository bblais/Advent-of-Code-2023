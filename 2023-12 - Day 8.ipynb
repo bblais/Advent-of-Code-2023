{
 "cells": [
  {
   "cell_type": "code",
   "execution_count": 2,
   "id": "6b14c8dc-21fb-40dc-9c38-993fdc038b31",
   "metadata": {},
   "outputs": [
    {
     "name": "stdout",
     "output_type": "stream",
     "text": [
      "RL\n"
     ]
    }
   ],
   "source": [
    "S=\"\"\"\n",
    "RL\n",
    "\n",
    "AAA = (BBB, CCC)\n",
    "BBB = (DDD, EEE)\n",
    "CCC = (ZZZ, GGG)\n",
    "DDD = (DDD, DDD)\n",
    "EEE = (EEE, EEE)\n",
    "GGG = (GGG, GGG)\n",
    "ZZZ = (ZZZ, ZZZ)\n",
    "\"\"\".strip()\n",
    "\n",
    "lines=S.split(\"\\n\")\n",
    "instructions=lines[0]\n",
    "print(instructions)"
   ]
  },
  {
   "cell_type": "code",
   "execution_count": 3,
   "id": "ccce9a25-4ddf-4e55-8a90-122ff34350af",
   "metadata": {},
   "outputs": [],
   "source": [
    "D={}\n",
    "for line in lines[2:]:\n",
    "\n",
    "    key=line.split(\"=\")[0].strip()\n",
    "    L=line.split(\"(\")[1].split(\",\")[0].strip()\n",
    "    R=line.split(\"(\")[1].split(\",\")[1].split(\")\")[0].strip()\n",
    "\n",
    "    D[key]={'L':L,'R':R}"
   ]
  },
  {
   "cell_type": "code",
   "execution_count": 4,
   "id": "1c023c70-1162-4a31-a8c2-0213587491ee",
   "metadata": {},
   "outputs": [
    {
     "data": {
      "text/plain": [
       "{'AAA': {'L': 'BBB', 'R': 'CCC'},\n",
       " 'BBB': {'L': 'DDD', 'R': 'EEE'},\n",
       " 'CCC': {'L': 'ZZZ', 'R': 'GGG'},\n",
       " 'DDD': {'L': 'DDD', 'R': 'DDD'},\n",
       " 'EEE': {'L': 'EEE', 'R': 'EEE'},\n",
       " 'GGG': {'L': 'GGG', 'R': 'GGG'},\n",
       " 'ZZZ': {'L': 'ZZZ', 'R': 'ZZZ'}}"
      ]
     },
     "execution_count": 4,
     "metadata": {},
     "output_type": "execute_result"
    }
   ],
   "source": [
    "D"
   ]
  },
  {
   "cell_type": "code",
   "execution_count": 5,
   "id": "b9ba2ef9-f43b-483b-bf7d-8c3e1ffe1365",
   "metadata": {},
   "outputs": [
    {
     "name": "stdout",
     "output_type": "stream",
     "text": [
      "AAA   R --> CCC\n",
      "CCC   L --> ZZZ\n",
      "2\n"
     ]
    }
   ],
   "source": [
    "key='AAA'\n",
    "count=0\n",
    "while key!='ZZZ':\n",
    "    inst=instructions[count % len(instructions)]\n",
    "    print(key,\" \",inst,\"-->\",D[key][inst])\n",
    "    key=D[key][inst]\n",
    "    count+=1\n",
    "    if count>20:\n",
    "        break\n",
    "print(count)"
   ]
  },
  {
   "cell_type": "code",
   "execution_count": 6,
   "id": "d5ecba08-d144-420b-972e-50b3d9554ae4",
   "metadata": {},
   "outputs": [
    {
     "name": "stdout",
     "output_type": "stream",
     "text": [
      "LLR\n"
     ]
    }
   ],
   "source": [
    "S=\"\"\"\n",
    "LLR\n",
    "\n",
    "AAA = (BBB, BBB)\n",
    "BBB = (AAA, ZZZ)\n",
    "ZZZ = (ZZZ, ZZZ)\n",
    "\"\"\".strip()\n",
    "lines=S.split(\"\\n\")\n",
    "instructions=lines[0]\n",
    "print(instructions)"
   ]
  },
  {
   "cell_type": "code",
   "execution_count": 7,
   "id": "6a5c437f-7007-4f84-a6a7-a07597757c82",
   "metadata": {},
   "outputs": [],
   "source": [
    "D={}\n",
    "for line in lines[2:]:\n",
    "\n",
    "    key=line.split(\"=\")[0].strip()\n",
    "    L=line.split(\"(\")[1].split(\",\")[0].strip()\n",
    "    R=line.split(\"(\")[1].split(\",\")[1].split(\")\")[0].strip()\n",
    "\n",
    "    D[key]={'L':L,'R':R}"
   ]
  },
  {
   "cell_type": "code",
   "execution_count": 8,
   "id": "7d1550a3-648c-45b4-b795-2ea4cfe78a0c",
   "metadata": {},
   "outputs": [
    {
     "name": "stdout",
     "output_type": "stream",
     "text": [
      "AAA   L --> BBB\n",
      "BBB   L --> AAA\n",
      "AAA   R --> BBB\n",
      "BBB   L --> AAA\n",
      "AAA   L --> BBB\n",
      "BBB   R --> ZZZ\n",
      "6\n"
     ]
    }
   ],
   "source": [
    "key='AAA'\n",
    "count=0\n",
    "while key!='ZZZ':\n",
    "    inst=instructions[count % len(instructions)]\n",
    "    print(key,\" \",inst,\"-->\",D[key][inst])\n",
    "    key=D[key][inst]\n",
    "    count+=1\n",
    "    if count>20:\n",
    "        break\n",
    "\n",
    "print(count)"
   ]
  },
  {
   "cell_type": "code",
   "execution_count": 24,
   "id": "e5453367-c645-4bbd-9ad5-e6c038e15bb8",
   "metadata": {},
   "outputs": [
    {
     "name": "stdout",
     "output_type": "stream",
     "text": [
      "LLRLRRLLRLRRLLRLRRLRRRLRLRLRRRLLRLRRRLRLRRRLRLRLLLRRLRLRLLRLRRLRRRLRRRLLRRLRLRRRLRRLRRRLRLLRRLRRRLRRRLRRLRLRRLLLRLRLLRRRLRRLLRLRLRRLLRLRRLLRLRRLRRLLRRRLRLRLRRRLLRRRLRRLRRRLRRRLRLRRRLRRLLLRRRLRLLLRRRLRLLRLLRRRLLRRLRRRLRRRLRLLRLRLRRRLLRRLRRRLRRLRLLRRRLRRLRRRLRRRLRRRLRLRRRLRRRLRLRRRR\n"
     ]
    }
   ],
   "source": [
    "S=open('data/day8.txt').read().strip()\n",
    "lines=S.split(\"\\n\")\n",
    "instructions=lines[0]\n",
    "print(instructions)"
   ]
  },
  {
   "cell_type": "code",
   "execution_count": 25,
   "id": "ec10de7b-0f1c-431c-a916-d3619bc1f16b",
   "metadata": {},
   "outputs": [],
   "source": [
    "D={}\n",
    "for line in lines[2:]:\n",
    "\n",
    "    key=line.split(\"=\")[0].strip()\n",
    "    L=line.split(\"(\")[1].split(\",\")[0].strip()\n",
    "    R=line.split(\"(\")[1].split(\",\")[1].split(\")\")[0].strip()\n",
    "\n",
    "    D[key]={'L':L,'R':R}"
   ]
  },
  {
   "cell_type": "code",
   "execution_count": 26,
   "id": "8d5234f9-f6f9-4d33-bbc6-5bf0ba288b5b",
   "metadata": {},
   "outputs": [
    {
     "name": "stdout",
     "output_type": "stream",
     "text": [
      "18827\n"
     ]
    }
   ],
   "source": [
    "key='AAA'\n",
    "count=0\n",
    "while key!='ZZZ':\n",
    "    inst=instructions[count % len(instructions)]\n",
    "    key=D[key][inst]\n",
    "    count+=1\n",
    "\n",
    "print(count)"
   ]
  },
  {
   "cell_type": "code",
   "execution_count": null,
   "id": "155d74a1-bdc6-4bfd-b6cf-3626a9ea4ab6",
   "metadata": {},
   "outputs": [],
   "source": []
  },
  {
   "cell_type": "code",
   "execution_count": 27,
   "id": "69ed0f85-58d7-4f27-ad13-aed8feb1f1e5",
   "metadata": {},
   "outputs": [
    {
     "data": {
      "text/plain": [
       "6"
      ]
     },
     "execution_count": 27,
     "metadata": {},
     "output_type": "execute_result"
    }
   ],
   "source": [
    "keys=list(D.keys())\n",
    "keys=[key for key in keys if key.endswith('A')]\n",
    "len(keys)"
   ]
  },
  {
   "cell_type": "code",
   "execution_count": 28,
   "id": "9a2f433f-1ef3-4ed5-8a59-6f972cf8a59c",
   "metadata": {},
   "outputs": [
    {
     "data": {
      "text/plain": [
       "True"
      ]
     },
     "execution_count": 28,
     "metadata": {},
     "output_type": "execute_result"
    }
   ],
   "source": [
    "all([key.endswith('A') for key in keys])"
   ]
  },
  {
   "cell_type": "code",
   "execution_count": 29,
   "id": "7de8c43f-2578-4844-8f1c-8a86e5b7642d",
   "metadata": {},
   "outputs": [],
   "source": [
    "import sys"
   ]
  },
  {
   "cell_type": "code",
   "execution_count": 30,
   "id": "6ac652e5-b59f-4cae-9064-269a96c9db35",
   "metadata": {},
   "outputs": [
    {
     "name": "stdout",
     "output_type": "stream",
     "text": [
      "..............................................................................................................................................................................................................................................................................................................................................................................................................................................................."
     ]
    },
    {
     "ename": "KeyboardInterrupt",
     "evalue": "",
     "output_type": "error",
     "traceback": [
      "\u001b[0;31m---------------------------------------------------------------------------\u001b[0m",
      "\u001b[0;31mKeyboardInterrupt\u001b[0m                         Traceback (most recent call last)",
      "Cell \u001b[0;32mIn[30], line 7\u001b[0m\n\u001b[1;32m      4\u001b[0m keys\u001b[38;5;241m=\u001b[39m[D[key][inst] \u001b[38;5;28;01mfor\u001b[39;00m key \u001b[38;5;129;01min\u001b[39;00m keys]\n\u001b[1;32m      5\u001b[0m count\u001b[38;5;241m+\u001b[39m\u001b[38;5;241m=\u001b[39m\u001b[38;5;241m1\u001b[39m\n\u001b[0;32m----> 7\u001b[0m \u001b[38;5;28;01mif\u001b[39;00m \u001b[38;5;28mall\u001b[39m([key\u001b[38;5;241m.\u001b[39mendswith(\u001b[38;5;124m'\u001b[39m\u001b[38;5;124mZ\u001b[39m\u001b[38;5;124m'\u001b[39m) \u001b[38;5;28;01mfor\u001b[39;00m key \u001b[38;5;129;01min\u001b[39;00m keys]):\n\u001b[1;32m      8\u001b[0m     \u001b[38;5;28;01mbreak\u001b[39;00m\n\u001b[1;32m     10\u001b[0m \u001b[38;5;28;01mif\u001b[39;00m count\u001b[38;5;241m%\u001b[39m\u001b[38;5;241m1000000\u001b[39m \u001b[38;5;241m==\u001b[39m\u001b[38;5;241m0\u001b[39m:\n",
      "Cell \u001b[0;32mIn[30], line 7\u001b[0m, in \u001b[0;36m<listcomp>\u001b[0;34m(.0)\u001b[0m\n\u001b[1;32m      4\u001b[0m keys\u001b[38;5;241m=\u001b[39m[D[key][inst] \u001b[38;5;28;01mfor\u001b[39;00m key \u001b[38;5;129;01min\u001b[39;00m keys]\n\u001b[1;32m      5\u001b[0m count\u001b[38;5;241m+\u001b[39m\u001b[38;5;241m=\u001b[39m\u001b[38;5;241m1\u001b[39m\n\u001b[0;32m----> 7\u001b[0m \u001b[38;5;28;01mif\u001b[39;00m \u001b[38;5;28mall\u001b[39m([key\u001b[38;5;241m.\u001b[39mendswith(\u001b[38;5;124m'\u001b[39m\u001b[38;5;124mZ\u001b[39m\u001b[38;5;124m'\u001b[39m) \u001b[38;5;28;01mfor\u001b[39;00m key \u001b[38;5;129;01min\u001b[39;00m keys]):\n\u001b[1;32m      8\u001b[0m     \u001b[38;5;28;01mbreak\u001b[39;00m\n\u001b[1;32m     10\u001b[0m \u001b[38;5;28;01mif\u001b[39;00m count\u001b[38;5;241m%\u001b[39m\u001b[38;5;241m1000000\u001b[39m \u001b[38;5;241m==\u001b[39m\u001b[38;5;241m0\u001b[39m:\n",
      "\u001b[0;31mKeyboardInterrupt\u001b[0m: "
     ]
    }
   ],
   "source": [
    "count=0\n",
    "while True:\n",
    "    inst=instructions[count % len(instructions)]\n",
    "    keys=[D[key][inst] for key in keys]\n",
    "    count+=1\n",
    "\n",
    "    if all([key.endswith('Z') for key in keys]):\n",
    "        break\n",
    "\n",
    "    if count%1000000 ==0:\n",
    "        print(\".\",end=\"\")\n",
    "        sys.stdout.flush()\n",
    "print(count)"
   ]
  },
  {
   "cell_type": "code",
   "execution_count": 31,
   "id": "633b46a0-c428-4ff0-9c21-7afbcedffd4e",
   "metadata": {},
   "outputs": [],
   "source": [
    "%matplotlib inline\n",
    "from pylab import *"
   ]
  },
  {
   "cell_type": "code",
   "execution_count": 40,
   "id": "110e4106-a79f-4269-9f8d-2e87ac3f36eb",
   "metadata": {},
   "outputs": [
    {
     "name": "stdout",
     "output_type": "stream",
     "text": [
      "100001\n"
     ]
    }
   ],
   "source": [
    "keys=list(D.keys())\n",
    "keys=[key for key in keys if key.endswith('A')]\n",
    "\n",
    "count=0\n",
    "data={}\n",
    "for i,key in enumerate(keys):\n",
    "        data[i]=[]\n",
    "    \n",
    "while True:\n",
    "    inst=instructions[count % len(instructions)]\n",
    "    keys=[D[key][inst] for key in keys]\n",
    "    count+=1\n",
    "\n",
    "    if all([key.endswith('Z') for key in keys]):\n",
    "        break\n",
    "\n",
    "    for i,key in enumerate(keys):\n",
    "        if key.endswith('Z'):\n",
    "            data[i].append(count)\n",
    "\n",
    "    if count>100000:\n",
    "        break\n",
    "\n",
    "print(count)"
   ]
  },
  {
   "cell_type": "code",
   "execution_count": 43,
   "id": "c2a8416f-0734-47ae-96d5-c7b57cd53e8a",
   "metadata": {},
   "outputs": [
    {
     "data": {
      "image/png": "[encoded data removed]",
      "text/plain": [
       "<Figure size 640x480 with 1 Axes>"
      ]
     },
     "metadata": {},
     "output_type": "display_data"
    }
   ],
   "source": [
    "for key in data:\n",
    "    plot(data[key],'o')"
   ]
  },
  {
   "cell_type": "code",
   "execution_count": 50,
   "id": "20153bbf-e42c-4cbf-8f5a-d93e7d2a9d13",
   "metadata": {},
   "outputs": [
    {
     "name": "stdout",
     "output_type": "stream",
     "text": [
      "[1. 2. 3. 4. 5.]\n",
      "[1. 2. 3. 4. 5.]\n",
      "[1. 2. 3. 4.]\n",
      "[1. 2. 3. 4. 5. 6. 7. 8.]\n",
      "[1. 2. 3. 4.]\n",
      "[1. 2. 3. 4. 5.]\n"
     ]
    }
   ],
   "source": [
    "for key in data:\n",
    "    data[key]=array(data[key])\n",
    "    print(data[key]/data[key][0])\n",
    "    "
   ]
  },
  {
   "cell_type": "code",
   "execution_count": 48,
   "id": "3a5f2be3-dbbb-47f8-8434-8385507b3229",
   "metadata": {},
   "outputs": [
    {
     "data": {
      "text/plain": [
       "array([1., 2., 3., 4., 5.])"
      ]
     },
     "execution_count": 48,
     "metadata": {},
     "output_type": "execute_result"
    }
   ],
   "source": [
    "data[1]/data[1][0]"
   ]
  },
  {
   "cell_type": "code",
   "execution_count": 51,
   "id": "ee392f0b-dc95-4d80-8289-a10855454667",
   "metadata": {},
   "outputs": [],
   "source": [
    "import math"
   ]
  },
  {
   "cell_type": "code",
   "execution_count": 54,
   "id": "7a24445d-131d-4d9e-bae6-7d71809db307",
   "metadata": {},
   "outputs": [
    {
     "data": {
      "text/plain": [
       "20220305520997"
      ]
     },
     "execution_count": 54,
     "metadata": {},
     "output_type": "execute_result"
    }
   ],
   "source": [
    "math.lcm(*[data[key][0] for key in data])"
   ]
  },
  {
   "cell_type": "code",
   "execution_count": null,
   "id": "ef729ec9-dac4-4827-97ed-1931e52fe15a",
   "metadata": {},
   "outputs": [],
   "source": []
  }
 ],
 "metadata": {
  "kernelspec": {
   "display_name": "Python 3 (ipykernel)",
   "language": "python",
   "name": "python3"
  },
  "language_info": {
   "codemirror_mode": {
    "name": "ipython",
    "version": 3
   },
   "file_extension": ".py",
   "mimetype": "text/x-python",
   "name": "python",
   "nbconvert_exporter": "python",
   "pygments_lexer": "ipython3",
   "version": "3.11.5"
  }
 },
 "nbformat": 4,
 "nbformat_minor": 5
}
