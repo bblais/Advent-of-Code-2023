


S="""
32T3K 765
T55J5 684
KK677 28
KTJJT 220
QQQJA 483
"""
lines=S.strip().split("\n")
hands,bids=zip(*[_.split() for _ in lines])
bids=[int(_) for _ in bids]
hands,bids


card_vals={}
for i,card in enumerate('23456789TJQKA'):
    card_vals[card]=i+2
card_vals


hand='QQQ3Q'
s=set(hand)


s


sorted([hand.count(_) for _ in s],reverse=True)


len(s)


hand_ranks={'five of a kind':7,
            'four of a kind':6,
            'full house':5,
            'three of a kind':4,
            'two pair':3,
            'one pair':2,
            'high card':1}


def get_type(hand):
    assert len(hand)==5
    
    s=set(hand)
    if len(s)==1:
        return 'five of a kind'

    counts=sorted([hand.count(_) for _ in s],reverse=True)

    if counts[0]==4:
        return 'four of a kind'

    if counts[0]==3 and counts[1]==2:
        return 'full house'

    if counts[0]==3:
        return 'three of a kind'

    if counts[0]==2 and counts[1]==2:
        return 'two pair'

    if counts[0]==2:
        return 'one pair'

    return 'high card'



def value(hand):
    val=hand_ranks[get_type(hand)]

    for i,c in enumerate(hand):
        val+=card_vals[c]/14**(i+2)

    return val


from numpy import arange


arange(2,14)/14/100


vals2,bids2=zip(*sorted(zip([value(_) for _ in hands],bids)))
bids2


(bids2*arange(1,len(bids2)+1)).sum()


S=open('data/day7.txt').read().strip()
lines=S.split('\n')
len(lines)


lines=S.strip().split("\n")
hands,bids=zip(*[_.split() for _ in lines])
bids=[int(_) for _ in bids]


vals2,bids2=zip(*sorted(zip([value(_) for _ in hands],bids)))
(bids2*arange(1,len(bids2)+1)).sum()





card_vals={}
for i,card in enumerate('J23456789TQKA'):
    card_vals[card]=i+2
card_vals


def get_type(hand):
    assert len(hand)==5

    s=set(hand)

    
    if len(s)==1:
        return 'five of a kind'  # unchanged

    J=hand.count('J')
    hand2=hand.replace('J','')
    
    s=set(hand2)
    
    counts=sorted([hand.count(_) for _ in s],reverse=True)

    try:
        counts[0]+=J
    except IndexError:
        print(hand)
        raise

    assert sum(counts)==5
    
    if counts[0]==4:
        return 'four of a kind'

    if counts[0]==3 and counts[1]==2:
        return 'full house'

    if counts[0]==3:
        return 'three of a kind'

    if counts[0]==2 and counts[1]==2:
        return 'two pair'

    if counts[0]==2:
        return 'one pair'

    return 'high card'

def value(hand):

    card_vals={}
    for i,card in enumerate('J23456789TQKA'):
        card_vals[card]=i+2
    
    val=hand_ranks[get_type(hand)]

    for i,c in enumerate(hand):
        val+=card_vals[c]/14**(i+2)

    return val


S="""
32T3K 765
T55J5 684
KK677 28
KTJJT 220
QQQJA 483
"""
lines=S.strip().split("\n")
hands,bids=zip(*[_.split() for _ in lines])
bids=[int(_) for _ in bids]
hands,bids


vals2,bids2=zip(*sorted(zip([value(_) for _ in hands],bids)))
(bids2*arange(1,len(bids2)+1)).sum()


S=open('data/day7.txt').read().strip()
lines=S.split('\n')
len(lines)


lines=S.strip().split("\n")
hands,bids=zip(*[_.split() for _ in lines])
bids=[int(_) for _ in bids]


vals2,bids2=zip(*sorted(zip([value(_) for _ in hands],bids)))
(bids2*arange(1,len(bids2)+1)).sum()



