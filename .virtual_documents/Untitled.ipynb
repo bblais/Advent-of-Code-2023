





from numpy import *


S="""
1abc2
pqr3stu8vwx
a1b2c3d4e5f
treb7uchet""".strip()


lines=S.split('\n')


for line in lines:
    pass


line


arr=array([ord(_) for _ in line])
arr


arr=arr[ (arr>=ord('0')) & (arr<=ord('9'))]
arr


int(chr(arr[0])+chr(arr[-1]))


nums=[]
for line in lines:
    arr=array([ord(_) for _ in line])
    arr=arr[ (arr>=ord('0')) & (arr<=ord('9'))]
    val=int(chr(arr[0])+chr(arr[-1]))
    nums.append(val)

nums,sum(nums)


S=open('data/day1.txt').read().strip()
lines=S.split('\n')
len(lines)


nums=[]
for line in lines:
    arr=array([ord(_) for _ in line])
    arr=arr[ (arr>=ord('0')) & (arr<=ord('9'))]
    val=int(chr(arr[0])+chr(arr[-1]))
    nums.append(val)

sum(nums)








S="""
two1nine
eightwothree
abcone2threexyz
xtwone3four
4nineeightseven2
zoneight234
7pqrstsixteen""".strip()
lines=S.split('\n')
len(lines)


lines


nums=[]
for line in lines:
    print(line,"::",end="")

    while True:
        idx=[]
        digit_name=[]   # xtwone3four have to deal with two happening before one
        digits=['zero','one','two','three','four','five','six','seven','eight','nine']
        for i,name in enumerate(digits):
            try:
                idx.append(line.index(name))
                digit_name.append(name)
            except ValueError:
                pass
        if idx:
            i=argmin(idx)
            line=line.replace(digit_name[i],str(digits.index(digit_name[i])))
        else:
            break
                          
    print(line)
        
    
    arr=array([ord(_) for _ in line])
    arr=arr[ (arr>=ord('0')) & (arr<=ord('9'))]
    val=int(chr(arr[0])+chr(arr[-1]))
    nums.append(val)

nums,sum(nums)





S=open('data/day1.txt').read().strip()
lines=S.split('\n')
len(lines)


nums=[]
for line in lines:
    #print(line,"::",end="")
    while True:
        idx=[]
        digit_name=[]   # xtwone3four have to deal with two happening before one
        digits=['zero','one','two','three','four','five','six','seven','eight','nine']
        for i,name in enumerate(digits):
            try:
                idx.append(line.index(name))
                digit_name.append(name)
            except ValueError:
                pass
        if idx:
            i=argmin(idx)
            line=line.replace(digit_name[i],str(digits.index(digit_name[i])))
        else:
            break
                          
        
    #print(line," ",end="")
    arr=array([ord(_) for _ in line])
    arr=arr[ (arr>=ord('0')) & (arr<=ord('9'))]
    val=int(chr(arr[0])+chr(arr[-1]))
    #print(val)
    nums.append(val)

sum(nums)


min(nums),max(nums)





import re

file = open('data/day1.txt', 'r')
lines = [line.rstrip() for line in file]
digits = {'zero':0, 'one':1, 'two':2, 'three':3, 'four':4, 'five':5, 'six':6, 'seven':7, 'eight':8, 'nine':9}
totParte1 = 0 
totParte2 = 0 

def parte1(lines):
	somma = 0
	for line in lines:
		num = [c for c in line if c.isnumeric()]
		somma += int(num[0]+num[-1])
	return somma

def parte2(lines):
    somma = 0
    vals=[]
    r = r'(?=(one|two|three|four|five|six|seven|eight|nine|\d))'
    pattern = re.compile(r)
    for line in lines:
        words = []
        for word in pattern.findall(line):
            if(word in digits):
                words.append(str(digits[word]))
            else: 
                words.append(word)	
                
        vals.append(int(words[0]+words[-1]))
        somma += int(words[0]+words[-1])
    return somma,vals

totParte1 = parte1(lines)
totParte2,vals = parte2(lines)
print(totParte2)


len(vals),len(nums)


idx=where(array(vals)!=array(nums))[0]


idx


lines[14]


vals[14]


nums[14]


nums=[]
for line in lines:
    #print(line,"::",end="")
    while True:
        idx=[]
        digit_name=[]   # xtwone3four have to deal with two happening before one and zfxbzhczcx9eightwockk  yuck!  have to iterate chars
        digits=['zero','one','two','three','four','five','six','seven','eight','nine']
        for i,name in enumerate(digits):
            try:
                idx.append(line.index(name))
                digit_name.append(name)
            except ValueError:
                pass
        if idx:
            i=argmin(idx)
            line=line.replace(digit_name[i],str(digits.index(digit_name[i])))
        else:
            break
                          
        
    #print(line," ",end="")
    arr=array([ord(_) for _ in line])
    arr=arr[ (arr>=ord('0')) & (arr<=ord('9'))]
    val=int(chr(arr[0])+chr(arr[-1]))
    #print(val)
    nums.append(val)

sum(nums)


line


def find_first(line):

    D={'zero':0,
       'one':1,
       'two':2,
       'three':3,
       'four':4,
       'five':5,
       'six':6,
       'seven':7,
       'eight':8,
       'nine':9}

    for i in range(10):
        D[str(i)]=i
    idx=[]
    all_keys=[]
    for key in D:
        try:
            idx.append(line.index(key))
            all_keys.append(key)
        except ValueError:
            pass
         
    i=argmin(idx)
    digit=str(D[all_keys[i]])

    return digit


def find_last(line):

    D={'zero':0,
       'one':1,
       'two':2,
       'three':3,
       'four':4,
       'five':5,
       'six':6,
       'seven':7,
       'eight':8,
       'nine':9}

    line=line[::-1]  # reverse
    for i in range(10):
        D[str(i)]=i
    idx=[]
    all_keys=[]
    for key in D:
        try:
            idx.append(line.index(key[::-1]))
            all_keys.append(key)
        except ValueError:
            pass
         
    i=argmin(idx)
    digit=str(D[all_keys[i]])

    return digit


line


find_first(line),find_last(line)


for line in lines[:20]:
    print(line,"::",end="")
    print(find_first(line),find_last(line))


nums=[]
for line in lines:
    val=int(find_first(line)+find_last(line))
    nums.append(val)

sum(nums)



