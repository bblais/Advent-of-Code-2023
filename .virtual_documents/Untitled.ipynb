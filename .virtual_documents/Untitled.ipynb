


S="""
Game 1: 3 blue, 4 red; 1 red, 2 green, 6 blue; 2 green
Game 2: 1 blue, 2 green; 3 green, 4 blue, 1 red; 1 green, 1 blue
Game 3: 8 green, 6 blue, 20 red; 5 blue, 4 red, 13 green; 5 green, 1 red
Game 4: 1 green, 3 red, 6 blue; 3 green, 6 red; 3 green, 15 blue, 14 red
Game 5: 6 red, 1 blue, 3 green; 2 blue, 1 red, 2 green
""".strip()
line=S.split('\n')


for line in lines:
    game_id=int(line.split(':')[0].split(' ')[-1])
    sets=line.split(':')[-1].split(';')

    for cube_set in sets:
        parts=cube_set.split(',')
        val,color=
