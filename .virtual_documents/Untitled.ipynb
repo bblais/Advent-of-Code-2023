S="""
RL

AAA = (BBB, CCC)
BBB = (DDD, EEE)
CCC = (ZZZ, GGG)
DDD = (DDD, DDD)
EEE = (EEE, EEE)
GGG = (GGG, GGG)
ZZZ = (ZZZ, ZZZ)
""".strip()

lines=S.split("\n")
instructions=lines[0]
print(instructions)


D={}
for line in lines[2:]:

    key=line.split("=")[0].strip()
    L=line.split("(")[1].split(",")[0].strip()
    R=line.split("(")[1].split(",")[1].split(")")[0].strip()

    D[key]={'L':L,'R':R}


D


key='AAA'
count=0
while key!='ZZZ':
    inst=instructions[count % len(instructions)]
    print(key," ",inst,"-->",D[key][inst])
    key=D[key][inst]
    count+=1

print(count)


S="""
LLR

AAA = (BBB, BBB)
BBB = (AAA, ZZZ)
ZZZ = (ZZZ, ZZZ)
""".strip()
lines=S.split("\n")
instructions=lines[0]
print(instructions)


key='AAA'
count=0
while key!='ZZZ':
    inst=instructions[count % len(instructions)]
    key=D[key][inst]
    count+=1

print(count)



