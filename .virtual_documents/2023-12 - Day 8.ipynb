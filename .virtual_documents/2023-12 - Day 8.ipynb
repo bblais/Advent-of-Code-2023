S="""
RL

AAA = (BBB, CCC)
BBB = (DDD, EEE)
CCC = (ZZZ, GGG)
DDD = (DDD, DDD)
EEE = (EEE, EEE)
GGG = (GGG, GGG)
ZZZ = (ZZZ, ZZZ)
""".strip()

lines=S.split("\n")
instructions=lines[0]
print(instructions)


D={}
for line in lines[2:]:

    key=line.split("=")[0].strip()
    L=line.split("(")[1].split(",")[0].strip()
    R=line.split("(")[1].split(",")[1].split(")")[0].strip()

    D[key]={'L':L,'R':R}


D


key='AAA'
count=0
while key!='ZZZ':
    inst=instructions[count % len(instructions)]
    print(key," ",inst,"-->",D[key][inst])
    key=D[key][inst]
    count+=1
    if count>20:
        break
print(count)


S="""
LLR

AAA = (BBB, BBB)
BBB = (AAA, ZZZ)
ZZZ = (ZZZ, ZZZ)
""".strip()
lines=S.split("\n")
instructions=lines[0]
print(instructions)


D={}
for line in lines[2:]:

    key=line.split("=")[0].strip()
    L=line.split("(")[1].split(",")[0].strip()
    R=line.split("(")[1].split(",")[1].split(")")[0].strip()

    D[key]={'L':L,'R':R}


key='AAA'
count=0
while key!='ZZZ':
    inst=instructions[count % len(instructions)]
    print(key," ",inst,"-->",D[key][inst])
    key=D[key][inst]
    count+=1
    if count>20:
        break

print(count)


S=open('data/day8.txt').read().strip()
lines=S.split("\n")
instructions=lines[0]
print(instructions)


D={}
for line in lines[2:]:

    key=line.split("=")[0].strip()
    L=line.split("(")[1].split(",")[0].strip()
    R=line.split("(")[1].split(",")[1].split(")")[0].strip()

    D[key]={'L':L,'R':R}


key='AAA'
count=0
while key!='ZZZ':
    inst=instructions[count % len(instructions)]
    key=D[key][inst]
    count+=1

print(count)





keys=list(D.keys())
keys=[key for key in keys if key.endswith('A')]
len(keys)


all([key.endswith('A') for key in keys])


import sys


count=0
while True:
    inst=instructions[count % len(instructions)]
    keys=[D[key][inst] for key in keys]
    count+=1

    if all([key.endswith('Z') for key in keys]):
        break

    if count%1000000 ==0:
        print(".",end="")
        sys.stdout.flush()
print(count)


%matplotlib inline
from pylab import *


keys=list(D.keys())
keys=[key for key in keys if key.endswith('A')]

count=0
data={}
for i,key in enumerate(keys):
        data[i]=[]
    
while True:
    inst=instructions[count % len(instructions)]
    keys=[D[key][inst] for key in keys]
    count+=1

    if all([key.endswith('Z') for key in keys]):
        break

    for i,key in enumerate(keys):
        if key.endswith('Z'):
            data[i].append(count)

    if count>100000:
        break

print(count)


for key in data:
    plot(data[key],'o')



