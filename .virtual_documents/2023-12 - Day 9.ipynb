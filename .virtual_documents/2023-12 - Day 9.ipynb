


from numpy import array,polyfit,diff,arange,polyval,round,sum,prod


# from https://www.foster77.co.uk/Foster,%20Mathematics%20In%20School,%20Differences%20Over%20Differences%20Methods.pdf

seq=[8, 15, 24, 35, 48]


seq=array(seq)


def get_power(seq):
    dseq=seq
    count=0
    while True:
        dseq=diff(dseq)
        count+=1
        if all(dseq==dseq[0]):
            break    
    return count


power=get_power(seq)
power


n=arange(1,len(seq)+1)
p=polyfit(n,seq,power)


int(polyval(p,max(n)+1))


S="""
0 3 6 9 12 15
1 3 6 10 15 21
10 13 16 21 30 45
""".strip()
lines=S.split('\n')
seqs=[]
for line in lines:
    seq=array([int(_) for _ in line.split()])
    seqs.append(seq)
seqs


def predict_next_val(seq):
    power=get_power(seq)
    n=arange(1,len(seq)+1)
    p=polyfit(n,seq,power) 
    val=int(round(polyval(p,max(n)+1)))
    return val    


for seq in seqs:
    val=predict_next_val(seq)
    print(seq,":",val)


vals=[predict_next_val(seq) for seq in seqs]
print(sum(vals))


S=open('data/day9.txt').read()
lines=S.split('\n')
print(len(lines))
seqs=[]
for line in lines:
    if not line:
        continue
    
    seq=array([int(_) for _ in line.split()])
    seqs.append(seq)


vals=[predict_next_val(seq) for seq in seqs]
print(sum(vals))
    



