


S="""
seeds: 79 14 55 13

seed-to-soil map:
50 98 2
52 50 48

soil-to-fertilizer map:
0 15 37
37 52 2
39 0 15

fertilizer-to-water map:
49 53 8
0 11 42
42 0 7
57 7 4

water-to-light map:
88 18 7
18 25 70

light-to-temperature map:
45 77 23
81 45 19
68 64 13

temperature-to-humidity map:
0 69 1
1 0 69

humidity-to-location map:
60 56 37
56 93 4
"""
lines=S.split("\n")


class Map:

    def __init__(self,line):
        self.source=line.split('-')[0]
        self.destination=line.split('-')[-1].split(' ')[0]
        self.ranges=[]
        
    def __repr__(self):
        S=f"{self.source} to {self.destination}"
        if self.ranges:
            S+=str(self.ranges)
        return S

    def _add_range(self,line):
        vals=[int(_) for _ in line.split()]
        self.ranges.append(vals)



    def __getitem__(self,item):
        src_index=None
        dst_index=None
        for d,s,l in self.ranges:
            if s<=item<=s+l:
                src_index=item
                dst_index=(item-s)+d
                break

        if src_index is None:
            src_index=item
            dst_index=item

        return self.source,src_index,self.destination,dst_index



maps={}
m=None
for line in lines:
    if line.startswith('seeds:'):
        seeds=[int(_) for _ in line.split(":")[1].split()]
        continue

    if line and line[0] not in '0123456789':
        m=Map(line)
        continue 
        
    if not line and m:
        maps[m.source]=m
        m=None
    elif m:
        m._add_range(line)
        

print(seeds)
print(maps)


m=maps['seed']
m


m[300]


m[99]


for i in range(100):
    print(m[i])


name,val='seed',79

while True:
    m=maps[name]
    src,src_i,dst,dst_i=m[val]
    print(src,src_i,dst,dst_i)

    name,val=dst,dst_i

    if name not in maps:
        break


dst_i


def get_location(maps,seed=None,verbose=False):
    name,val='seed',seed
    
    while True:
        m=maps[name]
        src,src_i,dst,dst_i=m[val]
        if verbose:
            print(src,src_i,dst,dst_i)
    
        name,val=dst,dst_i
    
        if name not in maps:
            break  

    assert name=='location'
    return dst_i


get_location(maps,seed=79,verbose=True)


[get_location(maps,seed=seed) for seed in seeds]


min([get_location(maps,seed=seed) for seed in seeds])


S=open('data/day5.txt').read().strip()
lines=S.split('\n')
len(lines)


maps={}
m=None
for line in lines:
    if line.startswith('seeds:'):
        seeds=[int(_) for _ in line.split(":")[1].split()]
        continue

    if line and line[0] not in '0123456789':
        m=Map(line)
        continue 
        
    if not line and m:
        maps[m.source]=m
        m=None
    elif m:
        m._add_range(line)
        
if m:
    maps[m.source]=m
    



seeds


min([get_location(maps,seed=seed) for seed in seeds])





S="""
seeds: 79 14 55 13

seed-to-soil map:
50 98 2
52 50 48

soil-to-fertilizer map:
0 15 37
37 52 2
39 0 15

fertilizer-to-water map:
49 53 8
0 11 42
42 0 7
57 7 4

water-to-light map:
88 18 7
18 25 70

light-to-temperature map:
45 77 23
81 45 19
68 64 13

temperature-to-humidity map:
0 69 1
1 0 69

humidity-to-location map:
60 56 37
56 93 4
"""
lines=S.split("\n")


maps={}
m=None
for line in lines:
    if line.startswith('seeds:'):
        seeds=[int(_) for _ in line.split(":")[1].split()]
        continue

    if line and line[0] not in '0123456789':
        m=Map(line)
        continue 
        
    if not line and m:
        maps[m.source]=m
        m=None
    elif m:
        m._add_range(line)
        
if m:
    maps[m.source]=m
    



min([get_location(maps,seed=seed) for seed in seeds])


old_seeds=seeds


seeds


seeds[1::2]


min_val=1e500
min_seed=None
for start,length in zip(seeds[::2],seeds[1::2]):
    for seed in range(start,start+length+1):
        location=get_location(maps,seed=seed)
        if location<min_val:
            min_val=location
            min_seed=seed

min_seed,min_val


get_location(maps,seed=min_seed,verbose=True)


S=open('data/day5.txt').read().strip()
lines=S.split('\n')
len(lines)




maps={}
m=None
for line in lines:
    if line.startswith('seeds:'):
        seeds=[int(_) for _ in line.split(":")[1].split()]
        continue

    if line and line[0] not in '0123456789':
        m=Map(line)
        continue 
        
    if not line and m:
        maps[m.source]=m
        m=None
    elif m:
        m._add_range(line)
        
if m:
    maps[m.source]=m
    



from tqdm.notebook import tqdm


min_val=1e500
min_seed=None
count=0
for start,length in tqdm(zip(seeds[::2],seeds[1::2])):
    for seed in tqdm(range(start,start+length+1)):
        location=get_location(maps,seed=seed)
        if location<min_val:
            min_val=location
            min_seed=seed

        
        count+=1
min_seed,min_val






