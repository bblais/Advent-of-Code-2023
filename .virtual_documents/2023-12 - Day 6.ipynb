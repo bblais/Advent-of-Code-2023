


S="""
Time:      7  15   30
Distance:  9  40  200
""".strip()
lines=S.split('\n')


time=[int(_) for _ in lines[0].split()[1:]]
distance=[int(_) for _ in lines[1].split()[1:]]


time,distance


t=7
d=9


def D(hold,t=7):
    v=hold
    to=hold
    return (t-to)*v


from numpy import arange


D(2,t=7)


total=1
for t,d in zip(time,distance):
    total*=(D(arange(t+1),t=t)>d).sum()
total


S=open('data/day6.txt').read().strip()
lines=S.split('\n')
len(lines)


time=[int(_) for _ in lines[0].split()[1:]]
distance=[int(_) for _ in lines[1].split()[1:]]


total=1
for t,d in zip(time,distance):
    total*=(D(arange(t+1),t=t)>d).sum()
total





S="""
Time:      7  15   30
Distance:  9  40  200
""".strip()
lines=S.split('\n')


time=int("".join(lines[0].split()[1:]))
distance=int("".join(lines[1].split()[1:]))
time,distance


t=time
d=distance
(D(arange(t+1),t=t)>d).sum()


S=open('data/day6.txt').read().strip()
lines=S.split('\n')
len(lines)


time=int("".join(lines[0].split()[1:]))
distance=int("".join(lines[1].split()[1:]))
time,distance


t=time
d=distance
(D(arange(t+1),t=t)>d).sum()



