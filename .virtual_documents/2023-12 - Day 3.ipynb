


S="""
467..114..
...*......
..35..633.
......#...
617*......
.....+.58.
..592.....
......755.
...$.*....
.664.598..
""".strip()


print(S)


lines=S.split('\n')
line=lines[0]
R=len(lines)
C=len(line)


line


def neighbors(r,c):

    if c>0:
        yield r,c-1

        if r>0:
            yield r-1,c-1

        if r<R-1:
            yield r+1,c-1
    if c<C-1:
        yield r,c+1

        if r>0:
            yield r-1,c+1

        if r<R-1:
            yield r+1,c+1

    if r>0:
        yield r-1,c

    if r<R-1:
        yield r+1,c
    



data=[]
for row in range(R):
    locs=[]
    ss=''
    for col in range(C):
        character=lines[row][col]
        if character in '0123456789':
            ss+=character
            locs.append((row,col))
        elif ss:
            val=int(ss)
            data.append([val,locs])
            locs=[]
            ss=''
    if ss:
        val=int(ss)
        data.append([val,locs])

data
            


print(S)


result=[]
for val, locs in data:
    found=False
    for r,c in locs:
        for rn,cn in neighbors(r,c):
            if lines[rn][cn] not in '0123456789.':
                found=True
                result.append(val)
                break
        if found:
            break
print(result)


sum(result)





S=open('data/day3.txt').read().strip()
lines=S.split('\n')
len(lines)


lines=S.split('\n')
line=lines[0]
R=len(lines)
C=len(line)



data=[]
for row in range(R):
    locs=[]
    ss=''
    for col in range(C):
        character=lines[row][col]
        if character in '0123456789':
            ss+=character
            locs.append((row,col))
        elif ss:
            val=int(ss)
            data.append([val,locs])
            locs=[]
            ss=''
    if ss:
        val=int(ss)
        data.append([val,locs])


            


result=[]
for val, locs in data:
    found=False
    for r,c in locs:
        for rn,cn in neighbors(r,c):
            if lines[rn][cn] not in '0123456789.':
                found=True
                result.append(val)
                break
        if found:
            break
print(sum(result))





S="""
467..114..
...*......
..35..633.
......#...
617*......
.....+.58.
..592.....
......755.
...$.*....
.664.598..
""".strip()


lines=S.split('\n')
line=lines[0]
R=len(lines)
C=len(line)



data=[]
for row in range(R):
    locs=[]
    ss=''
    for col in range(C):
        character=lines[row][col]
        if character in '0123456789':
            ss+=character
            locs.append((row,col))
        elif ss:
            val=int(ss)
            data.append([val,locs])
            locs=[]
            ss=''
    if ss:
        val=int(ss)
        data.append([val,locs])


            


from numpy import prod


total=0
for row in range(R):
    for col in range(C):
        character=lines[row][col]
        if not character=='*':
            continue

        vals=[]
        for val, locs in data:
            for rn,cn in neighbors(row,col):
                if (rn,cn) in locs:
                    vals.append(val)
                    break
        if len(vals)==2:
            print(vals)
            total+=prod(vals)


print(total)
            
                    


S=open('data/day3.txt').read().strip()
lines=S.split('\n')
len(lines)


lines=S.split('\n')
line=lines[0]
R=len(lines)
C=len(line)



data=[]
for row in range(R):
    locs=[]
    ss=''
    for col in range(C):
        character=lines[row][col]
        if character in '0123456789':
            ss+=character
            locs.append((row,col))
        elif ss:
            val=int(ss)
            data.append([val,locs])
            locs=[]
            ss=''
    if ss:
        val=int(ss)
        data.append([val,locs])


            


total=0
for row in range(R):
    for col in range(C):
        character=lines[row][col]
        if not character=='*':
            continue

        vals=[]
        for val, locs in data:
            for rn,cn in neighbors(row,col):
                if (rn,cn) in locs:
                    vals.append(val)
                    break
        if len(vals)==2:
            print(vals)
            total+=prod(vals)


print(total)
            
                    



