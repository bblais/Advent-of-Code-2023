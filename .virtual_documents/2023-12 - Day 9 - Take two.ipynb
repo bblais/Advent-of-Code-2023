


from numpy import array,polyfit,diff,arange,polyval,round,sum,prod,cumsum



seq=[1,   3,   6,  10,  15,  21]


seq=array(seq)


seq_tower=[seq]
while not all(seq_tower[-1]==0):
    seq_tower.append(diff(seq_tower[-1]))
seq_tower


[seq[-1] for seq in seq_tower][::-1]


cumsum([seq[-1] for seq in seq_tower][::-1])


def predict_next_val(seq):
    seq_tower=[seq]
    while not all(seq_tower[-1]==0):
        seq_tower.append(diff(seq_tower[-1]))

    val=cumsum([seq[-1] for seq in seq_tower][::-1])[-1]
    return val    


S="""
0 3 6 9 12 15
1 3 6 10 15 21
10 13 16 21 30 45
""".strip()
lines=S.split('\n')
seqs=[]
for line in lines:
    if not line:
        continue
    seq=array([int(_) for _ in line.split()])
    seqs.append(seq)
seqs


vals=[predict_next_val(seq) for seq in seqs]
print(sum(vals))


S=open('data/day9.txt').read()
lines=S.split('\n')
print(len(lines))
seqs=[]
for line in lines:
    if not line:
        continue
    
    seq=array([int(_) for _ in line.split()])
    seqs.append(seq)


vals=[]
for i,seq in enumerate(seqs):
    vals.append(predict_next_val(seq))
print(sum(vals))
    


line



