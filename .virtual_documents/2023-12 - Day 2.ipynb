


S="""
Game 1: 3 blue, 4 red; 1 red, 2 green, 6 blue; 2 green
Game 2: 1 blue, 2 green; 3 green, 4 blue, 1 red; 1 green, 1 blue
Game 3: 8 green, 6 blue, 20 red; 5 blue, 4 red, 13 green; 5 green, 1 red
Game 4: 1 green, 3 red, 6 blue; 3 green, 6 red; 3 green, 15 blue, 14 red
Game 5: 6 red, 1 blue, 3 green; 2 blue, 1 red, 2 green
""".strip()
lines=S.split('\n')


global verbose
verbose=False


import builtins

def print(*args, **kwargs):
    global verbose
    if verbose:
        return builtins.print(*args, **kwargs)



print("hello")


limits={'red':12,'green':13,'blue':14}


total=0
for line in lines:
    print(line)
    game_id=int(line.split(':')[0].split(' ')[-1])
    sets=line.split(':')[-1].split(';')

    stop=False
    for cube_set in sets:
        parts=cube_set.split(',')
        for part in parts:
            val,color=int(part.split()[0]),part.split()[1]
            limit=limits.get(color,1e500)
            print("\t",val,color,limit,end="")
            if val>limit:
                print(" BAD")
                stop=True
                break
            else:
                print(" OK")
        if stop:
            break
    if not stop:        
        total+=game_id


total



S=open('data/day2.txt').read().strip()
lines=S.split('\n')
len(lines)


limits={'red':12,'green':13,'blue':14}

total=0
for line in lines:
    print(line)
    game_id=int(line.split(':')[0].split(' ')[-1])
    sets=line.split(':')[-1].split(';')

    stop=False
    for cube_set in sets:
        parts=cube_set.split(',')
        for part in parts:
            val,color=int(part.split()[0]),part.split()[1]
            limit=limits.get(color,1e500)
            print("\t",val,color,limit,end="")
            if val>limit:
                print(" BAD")
                stop=True
                break
            else:
                print(" OK")
        if stop:
            break
    if not stop:        
        total+=game_id


total








S="""
Game 1: 3 blue, 4 red; 1 red, 2 green, 6 blue; 2 green
Game 2: 1 blue, 2 green; 3 green, 4 blue, 1 red; 1 green, 1 blue
Game 3: 8 green, 6 blue, 20 red; 5 blue, 4 red, 13 green; 5 green, 1 red
Game 4: 1 green, 3 red, 6 blue; 3 green, 6 red; 3 green, 15 blue, 14 red
Game 5: 6 red, 1 blue, 3 green; 2 blue, 1 red, 2 green
""".strip()
lines=S.split('\n')


verbose=True
total=0
for line in lines:
    print(line)
    game_id=int(line.split(':')[0].split(' ')[-1])
    sets=line.split(':')[-1].split(';')

    stop=False
    limits={'red':[],'green':[],'blue':[]}
    for cube_set in sets:
        parts=cube_set.split(',')
        for part in parts:
            val,color=int(part.split()[0]),part.split()[1]
            print("\t",val,color)

            limits[color].append(val)

    power=1
    for key in limits:
        power*=max(limits[key])
    print("\t","power:",power)
    total+=power

total


S=open('data/day2.txt').read().strip()
lines=S.split('\n')
len(lines)


verbose=False
total=0
for line in lines:
    print(line)
    game_id=int(line.split(':')[0].split(' ')[-1])
    sets=line.split(':')[-1].split(';')

    stop=False
    limits={'red':[],'green':[],'blue':[]}
    for cube_set in sets:
        parts=cube_set.split(',')
        for part in parts:
            val,color=int(part.split()[0]),part.split()[1]
            print("\t",val,color)

            limits[color].append(val)

    power=1
    for key in limits:
        power*=max(limits[key])
    print("\t","power:",power)
    total+=power

total



